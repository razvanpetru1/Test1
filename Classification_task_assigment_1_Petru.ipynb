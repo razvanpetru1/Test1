{
  "cells": [
    {
      "cell_type": "markdown",
      "metadata": {
        "id": "view-in-github",
        "colab_type": "text"
      },
      "source": [
        "<a href=\"https://colab.research.google.com/github/razvanpetru1/Test1/blob/master/Classification_task_assigment_1_Petru.ipynb\" target=\"_parent\"><img src=\"https://colab.research.google.com/assets/colab-badge.svg\" alt=\"Open In Colab\"/></a>"
      ]
    },
    {
      "cell_type": "code",
      "source": [],
      "metadata": {
        "id": "DpvMlCIJHXv5"
      },
      "execution_count": null,
      "outputs": []
    },
    {
      "cell_type": "markdown",
      "source": [
        "# Dataset entry (Load dataset)"
      ],
      "metadata": {
        "id": "rcyz3ZyuHUlR"
      }
    },
    {
      "cell_type": "code",
      "execution_count": 1,
      "metadata": {
        "colab": {
          "base_uri": "https://localhost:8080/"
        },
        "id": "eIu7QIuo6rqW",
        "outputId": "db5a72a3-aa72-423d-ac91-0808d617f25b"
      },
      "outputs": [
        {
          "output_type": "stream",
          "name": "stdout",
          "text": [
            "Collecting ucimlrepo\n",
            "  Downloading ucimlrepo-0.0.7-py3-none-any.whl.metadata (5.5 kB)\n",
            "Requirement already satisfied: pandas>=1.0.0 in /usr/local/lib/python3.10/dist-packages (from ucimlrepo) (2.2.2)\n",
            "Requirement already satisfied: certifi>=2020.12.5 in /usr/local/lib/python3.10/dist-packages (from ucimlrepo) (2024.8.30)\n",
            "Requirement already satisfied: numpy>=1.22.4 in /usr/local/lib/python3.10/dist-packages (from pandas>=1.0.0->ucimlrepo) (1.26.4)\n",
            "Requirement already satisfied: python-dateutil>=2.8.2 in /usr/local/lib/python3.10/dist-packages (from pandas>=1.0.0->ucimlrepo) (2.8.2)\n",
            "Requirement already satisfied: pytz>=2020.1 in /usr/local/lib/python3.10/dist-packages (from pandas>=1.0.0->ucimlrepo) (2024.2)\n",
            "Requirement already satisfied: tzdata>=2022.7 in /usr/local/lib/python3.10/dist-packages (from pandas>=1.0.0->ucimlrepo) (2024.2)\n",
            "Requirement already satisfied: six>=1.5 in /usr/local/lib/python3.10/dist-packages (from python-dateutil>=2.8.2->pandas>=1.0.0->ucimlrepo) (1.16.0)\n",
            "Downloading ucimlrepo-0.0.7-py3-none-any.whl (8.0 kB)\n",
            "Installing collected packages: ucimlrepo\n",
            "Successfully installed ucimlrepo-0.0.7\n"
          ]
        }
      ],
      "source": [
        "!pip install ucimlrepo\n",
        "from ucimlrepo import fetch_ucirepo\n",
        "import pandas as pd # Library for data exporation\n",
        "\n",
        "# fetch dataset\n",
        "car_evaluation = fetch_ucirepo(id=19)\n",
        "\n",
        "# data (as pandas dataframes)\n",
        "X_raw = car_evaluation.data.features\n",
        "y_raw = car_evaluation.data.targets\n",
        "\n"
      ]
    },
    {
      "cell_type": "code",
      "source": [
        "print(\"Available metadata keys:\")\n",
        "print(car_evaluation.metadata.keys())"
      ],
      "metadata": {
        "colab": {
          "base_uri": "https://localhost:8080/"
        },
        "id": "iXfZQDPVi0Ug",
        "outputId": "952b58c8-528d-4921-a3c3-9a339d22e55c"
      },
      "execution_count": 2,
      "outputs": [
        {
          "output_type": "stream",
          "name": "stdout",
          "text": [
            "Available metadata keys:\n",
            "dict_keys(['uci_id', 'name', 'repository_url', 'data_url', 'abstract', 'area', 'tasks', 'characteristics', 'num_instances', 'num_features', 'feature_types', 'demographics', 'target_col', 'index_col', 'has_missing_values', 'missing_values_symbol', 'year_of_dataset_creation', 'last_updated', 'dataset_doi', 'creators', 'intro_paper', 'additional_info'])\n"
          ]
        }
      ]
    },
    {
      "cell_type": "code",
      "source": [
        "# Print database details:\n",
        "# URL\n",
        "print(\"Repository URL:\", car_evaluation.metadata['repository_url'])\n",
        "\n",
        "# Dataset name\n",
        "print(\"Dataset Name:\", car_evaluation.metadata['name'])\n",
        "print(\"No instances:\", car_evaluation.metadata['num_instances']) # samples instastances in the dataset\n",
        "print(\"No features:\", car_evaluation.metadata['num_features']) # features in the dataset\n",
        "\n",
        "# Description\n",
        "print(\"Description:\", car_evaluation.metadata['abstract'])\n",
        "print()\n",
        "\n",
        "#Access the additional_info dictionary\n",
        "additional_info = car_evaluation.metadata['additional_info']\n",
        "print(additional_info)\n",
        "\n",
        "# Get the 'variable_info' string\n",
        "variable_info = additional_info['variable_info'] #'variable_info'\n",
        "\n",
        "# Print the 'variable_info' string with proper formatting\n",
        "print(variable_info)"
      ],
      "metadata": {
        "colab": {
          "base_uri": "https://localhost:8080/"
        },
        "id": "cPQHN4ATiePy",
        "outputId": "4f772620-ad54-4c4b-dfc1-7fc8303f630f"
      },
      "execution_count": 3,
      "outputs": [
        {
          "output_type": "stream",
          "name": "stdout",
          "text": [
            "Repository URL: https://archive.ics.uci.edu/dataset/19/car+evaluation\n",
            "Dataset Name: Car Evaluation\n",
            "No instances: 1728\n",
            "No features: 6\n",
            "Description: Derived from simple hierarchical decision model, this database may be useful for testing constructive induction and structure discovery methods.\n",
            "\n",
            "{'summary': 'Car Evaluation Database was derived from a simple hierarchical decision model originally developed for the demonstration of DEX, M. Bohanec, V. Rajkovic: Expert system for decision making. Sistemica 1(1), pp. 145-157, 1990.). The model evaluates cars according to the following concept structure:\\r\\n\\r\\nCAR                      car acceptability\\r\\n. PRICE                  overall price\\r\\n. . buying               buying price\\r\\n. . maint                price of the maintenance\\r\\n. TECH                   technical characteristics\\r\\n. . COMFORT              comfort\\r\\n. . . doors              number of doors\\r\\n. . . persons            capacity in terms of persons to carry\\r\\n. . . lug_boot           the size of luggage boot\\r\\n. . safety               estimated safety of the car\\r\\n\\r\\nInput attributes are printed in lowercase. Besides the target concept (CAR), the model includes three intermediate concepts: PRICE, TECH, COMFORT. Every concept is in the original model related to its lower level descendants by a set of examples (for these examples sets see http://www-ai.ijs.si/BlazZupan/car.html).\\r\\n\\r\\nThe Car Evaluation Database contains examples with the structural information removed, i.e., directly relates CAR to the six input attributes: buying, maint, doors, persons, lug_boot, safety.\\r\\n\\r\\nBecause of known underlying concept structure, this database may be particularly useful for testing constructive induction and structure discovery methods.\\r\\n', 'purpose': None, 'funded_by': None, 'instances_represent': None, 'recommended_data_splits': None, 'sensitive_data': None, 'preprocessing_description': None, 'variable_info': 'buying:   vhigh, high, med, low.\\nmaint:    vhigh, high, med, low.\\ndoors:    2, 3, 4, 5more.\\npersons:  2, 4, more.\\nlug_boot: small, med, big.\\nsafety:   low, med, high.', 'citation': None}\n",
            "buying:   vhigh, high, med, low.\n",
            "maint:    vhigh, high, med, low.\n",
            "doors:    2, 3, 4, 5more.\n",
            "persons:  2, 4, more.\n",
            "lug_boot: small, med, big.\n",
            "safety:   low, med, high.\n"
          ]
        }
      ]
    },
    {
      "cell_type": "code",
      "execution_count": 4,
      "metadata": {
        "colab": {
          "base_uri": "https://localhost:8080/",
          "height": 224
        },
        "id": "DUFmwBIagQp9",
        "outputId": "cd752c81-ddf4-4ae0-898c-8008f912ae9c"
      },
      "outputs": [
        {
          "output_type": "stream",
          "name": "stdout",
          "text": [
            "Features database:\n"
          ]
        },
        {
          "output_type": "display_data",
          "data": {
            "text/plain": [
              "  buying  maint doors persons lug_boot safety\n",
              "0  vhigh  vhigh     2       2    small    low\n",
              "1  vhigh  vhigh     2       2    small    med\n",
              "2  vhigh  vhigh     2       2    small   high\n",
              "3  vhigh  vhigh     2       2      med    low\n",
              "4  vhigh  vhigh     2       2      med    med"
            ],
            "text/html": [
              "\n",
              "  <div id=\"df-24086af0-8782-43d1-ab0e-94a4ac14f682\" class=\"colab-df-container\">\n",
              "    <div>\n",
              "<style scoped>\n",
              "    .dataframe tbody tr th:only-of-type {\n",
              "        vertical-align: middle;\n",
              "    }\n",
              "\n",
              "    .dataframe tbody tr th {\n",
              "        vertical-align: top;\n",
              "    }\n",
              "\n",
              "    .dataframe thead th {\n",
              "        text-align: right;\n",
              "    }\n",
              "</style>\n",
              "<table border=\"1\" class=\"dataframe\">\n",
              "  <thead>\n",
              "    <tr style=\"text-align: right;\">\n",
              "      <th></th>\n",
              "      <th>buying</th>\n",
              "      <th>maint</th>\n",
              "      <th>doors</th>\n",
              "      <th>persons</th>\n",
              "      <th>lug_boot</th>\n",
              "      <th>safety</th>\n",
              "    </tr>\n",
              "  </thead>\n",
              "  <tbody>\n",
              "    <tr>\n",
              "      <th>0</th>\n",
              "      <td>vhigh</td>\n",
              "      <td>vhigh</td>\n",
              "      <td>2</td>\n",
              "      <td>2</td>\n",
              "      <td>small</td>\n",
              "      <td>low</td>\n",
              "    </tr>\n",
              "    <tr>\n",
              "      <th>1</th>\n",
              "      <td>vhigh</td>\n",
              "      <td>vhigh</td>\n",
              "      <td>2</td>\n",
              "      <td>2</td>\n",
              "      <td>small</td>\n",
              "      <td>med</td>\n",
              "    </tr>\n",
              "    <tr>\n",
              "      <th>2</th>\n",
              "      <td>vhigh</td>\n",
              "      <td>vhigh</td>\n",
              "      <td>2</td>\n",
              "      <td>2</td>\n",
              "      <td>small</td>\n",
              "      <td>high</td>\n",
              "    </tr>\n",
              "    <tr>\n",
              "      <th>3</th>\n",
              "      <td>vhigh</td>\n",
              "      <td>vhigh</td>\n",
              "      <td>2</td>\n",
              "      <td>2</td>\n",
              "      <td>med</td>\n",
              "      <td>low</td>\n",
              "    </tr>\n",
              "    <tr>\n",
              "      <th>4</th>\n",
              "      <td>vhigh</td>\n",
              "      <td>vhigh</td>\n",
              "      <td>2</td>\n",
              "      <td>2</td>\n",
              "      <td>med</td>\n",
              "      <td>med</td>\n",
              "    </tr>\n",
              "  </tbody>\n",
              "</table>\n",
              "</div>\n",
              "    <div class=\"colab-df-buttons\">\n",
              "\n",
              "  <div class=\"colab-df-container\">\n",
              "    <button class=\"colab-df-convert\" onclick=\"convertToInteractive('df-24086af0-8782-43d1-ab0e-94a4ac14f682')\"\n",
              "            title=\"Convert this dataframe to an interactive table.\"\n",
              "            style=\"display:none;\">\n",
              "\n",
              "  <svg xmlns=\"http://www.w3.org/2000/svg\" height=\"24px\" viewBox=\"0 -960 960 960\">\n",
              "    <path d=\"M120-120v-720h720v720H120Zm60-500h600v-160H180v160Zm220 220h160v-160H400v160Zm0 220h160v-160H400v160ZM180-400h160v-160H180v160Zm440 0h160v-160H620v160ZM180-180h160v-160H180v160Zm440 0h160v-160H620v160Z\"/>\n",
              "  </svg>\n",
              "    </button>\n",
              "\n",
              "  <style>\n",
              "    .colab-df-container {\n",
              "      display:flex;\n",
              "      gap: 12px;\n",
              "    }\n",
              "\n",
              "    .colab-df-convert {\n",
              "      background-color: #E8F0FE;\n",
              "      border: none;\n",
              "      border-radius: 50%;\n",
              "      cursor: pointer;\n",
              "      display: none;\n",
              "      fill: #1967D2;\n",
              "      height: 32px;\n",
              "      padding: 0 0 0 0;\n",
              "      width: 32px;\n",
              "    }\n",
              "\n",
              "    .colab-df-convert:hover {\n",
              "      background-color: #E2EBFA;\n",
              "      box-shadow: 0px 1px 2px rgba(60, 64, 67, 0.3), 0px 1px 3px 1px rgba(60, 64, 67, 0.15);\n",
              "      fill: #174EA6;\n",
              "    }\n",
              "\n",
              "    .colab-df-buttons div {\n",
              "      margin-bottom: 4px;\n",
              "    }\n",
              "\n",
              "    [theme=dark] .colab-df-convert {\n",
              "      background-color: #3B4455;\n",
              "      fill: #D2E3FC;\n",
              "    }\n",
              "\n",
              "    [theme=dark] .colab-df-convert:hover {\n",
              "      background-color: #434B5C;\n",
              "      box-shadow: 0px 1px 3px 1px rgba(0, 0, 0, 0.15);\n",
              "      filter: drop-shadow(0px 1px 2px rgba(0, 0, 0, 0.3));\n",
              "      fill: #FFFFFF;\n",
              "    }\n",
              "  </style>\n",
              "\n",
              "    <script>\n",
              "      const buttonEl =\n",
              "        document.querySelector('#df-24086af0-8782-43d1-ab0e-94a4ac14f682 button.colab-df-convert');\n",
              "      buttonEl.style.display =\n",
              "        google.colab.kernel.accessAllowed ? 'block' : 'none';\n",
              "\n",
              "      async function convertToInteractive(key) {\n",
              "        const element = document.querySelector('#df-24086af0-8782-43d1-ab0e-94a4ac14f682');\n",
              "        const dataTable =\n",
              "          await google.colab.kernel.invokeFunction('convertToInteractive',\n",
              "                                                    [key], {});\n",
              "        if (!dataTable) return;\n",
              "\n",
              "        const docLinkHtml = 'Like what you see? Visit the ' +\n",
              "          '<a target=\"_blank\" href=https://colab.research.google.com/notebooks/data_table.ipynb>data table notebook</a>'\n",
              "          + ' to learn more about interactive tables.';\n",
              "        element.innerHTML = '';\n",
              "        dataTable['output_type'] = 'display_data';\n",
              "        await google.colab.output.renderOutput(dataTable, element);\n",
              "        const docLink = document.createElement('div');\n",
              "        docLink.innerHTML = docLinkHtml;\n",
              "        element.appendChild(docLink);\n",
              "      }\n",
              "    </script>\n",
              "  </div>\n",
              "\n",
              "\n",
              "<div id=\"df-c5996fd9-77b2-4f61-9e55-22b8abdbc24f\">\n",
              "  <button class=\"colab-df-quickchart\" onclick=\"quickchart('df-c5996fd9-77b2-4f61-9e55-22b8abdbc24f')\"\n",
              "            title=\"Suggest charts\"\n",
              "            style=\"display:none;\">\n",
              "\n",
              "<svg xmlns=\"http://www.w3.org/2000/svg\" height=\"24px\"viewBox=\"0 0 24 24\"\n",
              "     width=\"24px\">\n",
              "    <g>\n",
              "        <path d=\"M19 3H5c-1.1 0-2 .9-2 2v14c0 1.1.9 2 2 2h14c1.1 0 2-.9 2-2V5c0-1.1-.9-2-2-2zM9 17H7v-7h2v7zm4 0h-2V7h2v10zm4 0h-2v-4h2v4z\"/>\n",
              "    </g>\n",
              "</svg>\n",
              "  </button>\n",
              "\n",
              "<style>\n",
              "  .colab-df-quickchart {\n",
              "      --bg-color: #E8F0FE;\n",
              "      --fill-color: #1967D2;\n",
              "      --hover-bg-color: #E2EBFA;\n",
              "      --hover-fill-color: #174EA6;\n",
              "      --disabled-fill-color: #AAA;\n",
              "      --disabled-bg-color: #DDD;\n",
              "  }\n",
              "\n",
              "  [theme=dark] .colab-df-quickchart {\n",
              "      --bg-color: #3B4455;\n",
              "      --fill-color: #D2E3FC;\n",
              "      --hover-bg-color: #434B5C;\n",
              "      --hover-fill-color: #FFFFFF;\n",
              "      --disabled-bg-color: #3B4455;\n",
              "      --disabled-fill-color: #666;\n",
              "  }\n",
              "\n",
              "  .colab-df-quickchart {\n",
              "    background-color: var(--bg-color);\n",
              "    border: none;\n",
              "    border-radius: 50%;\n",
              "    cursor: pointer;\n",
              "    display: none;\n",
              "    fill: var(--fill-color);\n",
              "    height: 32px;\n",
              "    padding: 0;\n",
              "    width: 32px;\n",
              "  }\n",
              "\n",
              "  .colab-df-quickchart:hover {\n",
              "    background-color: var(--hover-bg-color);\n",
              "    box-shadow: 0 1px 2px rgba(60, 64, 67, 0.3), 0 1px 3px 1px rgba(60, 64, 67, 0.15);\n",
              "    fill: var(--button-hover-fill-color);\n",
              "  }\n",
              "\n",
              "  .colab-df-quickchart-complete:disabled,\n",
              "  .colab-df-quickchart-complete:disabled:hover {\n",
              "    background-color: var(--disabled-bg-color);\n",
              "    fill: var(--disabled-fill-color);\n",
              "    box-shadow: none;\n",
              "  }\n",
              "\n",
              "  .colab-df-spinner {\n",
              "    border: 2px solid var(--fill-color);\n",
              "    border-color: transparent;\n",
              "    border-bottom-color: var(--fill-color);\n",
              "    animation:\n",
              "      spin 1s steps(1) infinite;\n",
              "  }\n",
              "\n",
              "  @keyframes spin {\n",
              "    0% {\n",
              "      border-color: transparent;\n",
              "      border-bottom-color: var(--fill-color);\n",
              "      border-left-color: var(--fill-color);\n",
              "    }\n",
              "    20% {\n",
              "      border-color: transparent;\n",
              "      border-left-color: var(--fill-color);\n",
              "      border-top-color: var(--fill-color);\n",
              "    }\n",
              "    30% {\n",
              "      border-color: transparent;\n",
              "      border-left-color: var(--fill-color);\n",
              "      border-top-color: var(--fill-color);\n",
              "      border-right-color: var(--fill-color);\n",
              "    }\n",
              "    40% {\n",
              "      border-color: transparent;\n",
              "      border-right-color: var(--fill-color);\n",
              "      border-top-color: var(--fill-color);\n",
              "    }\n",
              "    60% {\n",
              "      border-color: transparent;\n",
              "      border-right-color: var(--fill-color);\n",
              "    }\n",
              "    80% {\n",
              "      border-color: transparent;\n",
              "      border-right-color: var(--fill-color);\n",
              "      border-bottom-color: var(--fill-color);\n",
              "    }\n",
              "    90% {\n",
              "      border-color: transparent;\n",
              "      border-bottom-color: var(--fill-color);\n",
              "    }\n",
              "  }\n",
              "</style>\n",
              "\n",
              "  <script>\n",
              "    async function quickchart(key) {\n",
              "      const quickchartButtonEl =\n",
              "        document.querySelector('#' + key + ' button');\n",
              "      quickchartButtonEl.disabled = true;  // To prevent multiple clicks.\n",
              "      quickchartButtonEl.classList.add('colab-df-spinner');\n",
              "      try {\n",
              "        const charts = await google.colab.kernel.invokeFunction(\n",
              "            'suggestCharts', [key], {});\n",
              "      } catch (error) {\n",
              "        console.error('Error during call to suggestCharts:', error);\n",
              "      }\n",
              "      quickchartButtonEl.classList.remove('colab-df-spinner');\n",
              "      quickchartButtonEl.classList.add('colab-df-quickchart-complete');\n",
              "    }\n",
              "    (() => {\n",
              "      let quickchartButtonEl =\n",
              "        document.querySelector('#df-c5996fd9-77b2-4f61-9e55-22b8abdbc24f button');\n",
              "      quickchartButtonEl.style.display =\n",
              "        google.colab.kernel.accessAllowed ? 'block' : 'none';\n",
              "    })();\n",
              "  </script>\n",
              "</div>\n",
              "\n",
              "    </div>\n",
              "  </div>\n"
            ],
            "application/vnd.google.colaboratory.intrinsic+json": {
              "type": "dataframe",
              "summary": "{\n  \"name\": \"display(X_raw\",\n  \"rows\": 5,\n  \"fields\": [\n    {\n      \"column\": \"buying\",\n      \"properties\": {\n        \"dtype\": \"category\",\n        \"num_unique_values\": 1,\n        \"samples\": [\n          \"vhigh\"\n        ],\n        \"semantic_type\": \"\",\n        \"description\": \"\"\n      }\n    },\n    {\n      \"column\": \"maint\",\n      \"properties\": {\n        \"dtype\": \"category\",\n        \"num_unique_values\": 1,\n        \"samples\": [\n          \"vhigh\"\n        ],\n        \"semantic_type\": \"\",\n        \"description\": \"\"\n      }\n    },\n    {\n      \"column\": \"doors\",\n      \"properties\": {\n        \"dtype\": \"category\",\n        \"num_unique_values\": 1,\n        \"samples\": [\n          \"2\"\n        ],\n        \"semantic_type\": \"\",\n        \"description\": \"\"\n      }\n    },\n    {\n      \"column\": \"persons\",\n      \"properties\": {\n        \"dtype\": \"category\",\n        \"num_unique_values\": 1,\n        \"samples\": [\n          \"2\"\n        ],\n        \"semantic_type\": \"\",\n        \"description\": \"\"\n      }\n    },\n    {\n      \"column\": \"lug_boot\",\n      \"properties\": {\n        \"dtype\": \"category\",\n        \"num_unique_values\": 2,\n        \"samples\": [\n          \"med\"\n        ],\n        \"semantic_type\": \"\",\n        \"description\": \"\"\n      }\n    },\n    {\n      \"column\": \"safety\",\n      \"properties\": {\n        \"dtype\": \"string\",\n        \"num_unique_values\": 3,\n        \"samples\": [\n          \"low\"\n        ],\n        \"semantic_type\": \"\",\n        \"description\": \"\"\n      }\n    }\n  ]\n}"
            }
          },
          "metadata": {}
        }
      ],
      "source": [
        "# Inputs valiabe (features)\n",
        "print(\"Features database:\")\n",
        "display(X_raw.head())"
      ]
    },
    {
      "cell_type": "markdown",
      "source": [],
      "metadata": {
        "id": "jJet7-UXbBmh"
      }
    },
    {
      "cell_type": "code",
      "source": [
        "# Outputs valuable (targets)\n",
        "print(\"Labels database:\")\n",
        "display(y_raw.head())"
      ],
      "metadata": {
        "colab": {
          "base_uri": "https://localhost:8080/",
          "height": 224
        },
        "id": "L0B3UrGklrSO",
        "outputId": "09c11d4a-f5f1-4f97-8a62-d73c83146c59"
      },
      "execution_count": 5,
      "outputs": [
        {
          "output_type": "stream",
          "name": "stdout",
          "text": [
            "Labels database:\n"
          ]
        },
        {
          "output_type": "display_data",
          "data": {
            "text/plain": [
              "   class\n",
              "0  unacc\n",
              "1  unacc\n",
              "2  unacc\n",
              "3  unacc\n",
              "4  unacc"
            ],
            "text/html": [
              "\n",
              "  <div id=\"df-1d2d70ac-41fe-46cd-a680-88b0b573d0c8\" class=\"colab-df-container\">\n",
              "    <div>\n",
              "<style scoped>\n",
              "    .dataframe tbody tr th:only-of-type {\n",
              "        vertical-align: middle;\n",
              "    }\n",
              "\n",
              "    .dataframe tbody tr th {\n",
              "        vertical-align: top;\n",
              "    }\n",
              "\n",
              "    .dataframe thead th {\n",
              "        text-align: right;\n",
              "    }\n",
              "</style>\n",
              "<table border=\"1\" class=\"dataframe\">\n",
              "  <thead>\n",
              "    <tr style=\"text-align: right;\">\n",
              "      <th></th>\n",
              "      <th>class</th>\n",
              "    </tr>\n",
              "  </thead>\n",
              "  <tbody>\n",
              "    <tr>\n",
              "      <th>0</th>\n",
              "      <td>unacc</td>\n",
              "    </tr>\n",
              "    <tr>\n",
              "      <th>1</th>\n",
              "      <td>unacc</td>\n",
              "    </tr>\n",
              "    <tr>\n",
              "      <th>2</th>\n",
              "      <td>unacc</td>\n",
              "    </tr>\n",
              "    <tr>\n",
              "      <th>3</th>\n",
              "      <td>unacc</td>\n",
              "    </tr>\n",
              "    <tr>\n",
              "      <th>4</th>\n",
              "      <td>unacc</td>\n",
              "    </tr>\n",
              "  </tbody>\n",
              "</table>\n",
              "</div>\n",
              "    <div class=\"colab-df-buttons\">\n",
              "\n",
              "  <div class=\"colab-df-container\">\n",
              "    <button class=\"colab-df-convert\" onclick=\"convertToInteractive('df-1d2d70ac-41fe-46cd-a680-88b0b573d0c8')\"\n",
              "            title=\"Convert this dataframe to an interactive table.\"\n",
              "            style=\"display:none;\">\n",
              "\n",
              "  <svg xmlns=\"http://www.w3.org/2000/svg\" height=\"24px\" viewBox=\"0 -960 960 960\">\n",
              "    <path d=\"M120-120v-720h720v720H120Zm60-500h600v-160H180v160Zm220 220h160v-160H400v160Zm0 220h160v-160H400v160ZM180-400h160v-160H180v160Zm440 0h160v-160H620v160ZM180-180h160v-160H180v160Zm440 0h160v-160H620v160Z\"/>\n",
              "  </svg>\n",
              "    </button>\n",
              "\n",
              "  <style>\n",
              "    .colab-df-container {\n",
              "      display:flex;\n",
              "      gap: 12px;\n",
              "    }\n",
              "\n",
              "    .colab-df-convert {\n",
              "      background-color: #E8F0FE;\n",
              "      border: none;\n",
              "      border-radius: 50%;\n",
              "      cursor: pointer;\n",
              "      display: none;\n",
              "      fill: #1967D2;\n",
              "      height: 32px;\n",
              "      padding: 0 0 0 0;\n",
              "      width: 32px;\n",
              "    }\n",
              "\n",
              "    .colab-df-convert:hover {\n",
              "      background-color: #E2EBFA;\n",
              "      box-shadow: 0px 1px 2px rgba(60, 64, 67, 0.3), 0px 1px 3px 1px rgba(60, 64, 67, 0.15);\n",
              "      fill: #174EA6;\n",
              "    }\n",
              "\n",
              "    .colab-df-buttons div {\n",
              "      margin-bottom: 4px;\n",
              "    }\n",
              "\n",
              "    [theme=dark] .colab-df-convert {\n",
              "      background-color: #3B4455;\n",
              "      fill: #D2E3FC;\n",
              "    }\n",
              "\n",
              "    [theme=dark] .colab-df-convert:hover {\n",
              "      background-color: #434B5C;\n",
              "      box-shadow: 0px 1px 3px 1px rgba(0, 0, 0, 0.15);\n",
              "      filter: drop-shadow(0px 1px 2px rgba(0, 0, 0, 0.3));\n",
              "      fill: #FFFFFF;\n",
              "    }\n",
              "  </style>\n",
              "\n",
              "    <script>\n",
              "      const buttonEl =\n",
              "        document.querySelector('#df-1d2d70ac-41fe-46cd-a680-88b0b573d0c8 button.colab-df-convert');\n",
              "      buttonEl.style.display =\n",
              "        google.colab.kernel.accessAllowed ? 'block' : 'none';\n",
              "\n",
              "      async function convertToInteractive(key) {\n",
              "        const element = document.querySelector('#df-1d2d70ac-41fe-46cd-a680-88b0b573d0c8');\n",
              "        const dataTable =\n",
              "          await google.colab.kernel.invokeFunction('convertToInteractive',\n",
              "                                                    [key], {});\n",
              "        if (!dataTable) return;\n",
              "\n",
              "        const docLinkHtml = 'Like what you see? Visit the ' +\n",
              "          '<a target=\"_blank\" href=https://colab.research.google.com/notebooks/data_table.ipynb>data table notebook</a>'\n",
              "          + ' to learn more about interactive tables.';\n",
              "        element.innerHTML = '';\n",
              "        dataTable['output_type'] = 'display_data';\n",
              "        await google.colab.output.renderOutput(dataTable, element);\n",
              "        const docLink = document.createElement('div');\n",
              "        docLink.innerHTML = docLinkHtml;\n",
              "        element.appendChild(docLink);\n",
              "      }\n",
              "    </script>\n",
              "  </div>\n",
              "\n",
              "\n",
              "<div id=\"df-e0eedfcd-e3dc-4cf9-b756-06dfa154e916\">\n",
              "  <button class=\"colab-df-quickchart\" onclick=\"quickchart('df-e0eedfcd-e3dc-4cf9-b756-06dfa154e916')\"\n",
              "            title=\"Suggest charts\"\n",
              "            style=\"display:none;\">\n",
              "\n",
              "<svg xmlns=\"http://www.w3.org/2000/svg\" height=\"24px\"viewBox=\"0 0 24 24\"\n",
              "     width=\"24px\">\n",
              "    <g>\n",
              "        <path d=\"M19 3H5c-1.1 0-2 .9-2 2v14c0 1.1.9 2 2 2h14c1.1 0 2-.9 2-2V5c0-1.1-.9-2-2-2zM9 17H7v-7h2v7zm4 0h-2V7h2v10zm4 0h-2v-4h2v4z\"/>\n",
              "    </g>\n",
              "</svg>\n",
              "  </button>\n",
              "\n",
              "<style>\n",
              "  .colab-df-quickchart {\n",
              "      --bg-color: #E8F0FE;\n",
              "      --fill-color: #1967D2;\n",
              "      --hover-bg-color: #E2EBFA;\n",
              "      --hover-fill-color: #174EA6;\n",
              "      --disabled-fill-color: #AAA;\n",
              "      --disabled-bg-color: #DDD;\n",
              "  }\n",
              "\n",
              "  [theme=dark] .colab-df-quickchart {\n",
              "      --bg-color: #3B4455;\n",
              "      --fill-color: #D2E3FC;\n",
              "      --hover-bg-color: #434B5C;\n",
              "      --hover-fill-color: #FFFFFF;\n",
              "      --disabled-bg-color: #3B4455;\n",
              "      --disabled-fill-color: #666;\n",
              "  }\n",
              "\n",
              "  .colab-df-quickchart {\n",
              "    background-color: var(--bg-color);\n",
              "    border: none;\n",
              "    border-radius: 50%;\n",
              "    cursor: pointer;\n",
              "    display: none;\n",
              "    fill: var(--fill-color);\n",
              "    height: 32px;\n",
              "    padding: 0;\n",
              "    width: 32px;\n",
              "  }\n",
              "\n",
              "  .colab-df-quickchart:hover {\n",
              "    background-color: var(--hover-bg-color);\n",
              "    box-shadow: 0 1px 2px rgba(60, 64, 67, 0.3), 0 1px 3px 1px rgba(60, 64, 67, 0.15);\n",
              "    fill: var(--button-hover-fill-color);\n",
              "  }\n",
              "\n",
              "  .colab-df-quickchart-complete:disabled,\n",
              "  .colab-df-quickchart-complete:disabled:hover {\n",
              "    background-color: var(--disabled-bg-color);\n",
              "    fill: var(--disabled-fill-color);\n",
              "    box-shadow: none;\n",
              "  }\n",
              "\n",
              "  .colab-df-spinner {\n",
              "    border: 2px solid var(--fill-color);\n",
              "    border-color: transparent;\n",
              "    border-bottom-color: var(--fill-color);\n",
              "    animation:\n",
              "      spin 1s steps(1) infinite;\n",
              "  }\n",
              "\n",
              "  @keyframes spin {\n",
              "    0% {\n",
              "      border-color: transparent;\n",
              "      border-bottom-color: var(--fill-color);\n",
              "      border-left-color: var(--fill-color);\n",
              "    }\n",
              "    20% {\n",
              "      border-color: transparent;\n",
              "      border-left-color: var(--fill-color);\n",
              "      border-top-color: var(--fill-color);\n",
              "    }\n",
              "    30% {\n",
              "      border-color: transparent;\n",
              "      border-left-color: var(--fill-color);\n",
              "      border-top-color: var(--fill-color);\n",
              "      border-right-color: var(--fill-color);\n",
              "    }\n",
              "    40% {\n",
              "      border-color: transparent;\n",
              "      border-right-color: var(--fill-color);\n",
              "      border-top-color: var(--fill-color);\n",
              "    }\n",
              "    60% {\n",
              "      border-color: transparent;\n",
              "      border-right-color: var(--fill-color);\n",
              "    }\n",
              "    80% {\n",
              "      border-color: transparent;\n",
              "      border-right-color: var(--fill-color);\n",
              "      border-bottom-color: var(--fill-color);\n",
              "    }\n",
              "    90% {\n",
              "      border-color: transparent;\n",
              "      border-bottom-color: var(--fill-color);\n",
              "    }\n",
              "  }\n",
              "</style>\n",
              "\n",
              "  <script>\n",
              "    async function quickchart(key) {\n",
              "      const quickchartButtonEl =\n",
              "        document.querySelector('#' + key + ' button');\n",
              "      quickchartButtonEl.disabled = true;  // To prevent multiple clicks.\n",
              "      quickchartButtonEl.classList.add('colab-df-spinner');\n",
              "      try {\n",
              "        const charts = await google.colab.kernel.invokeFunction(\n",
              "            'suggestCharts', [key], {});\n",
              "      } catch (error) {\n",
              "        console.error('Error during call to suggestCharts:', error);\n",
              "      }\n",
              "      quickchartButtonEl.classList.remove('colab-df-spinner');\n",
              "      quickchartButtonEl.classList.add('colab-df-quickchart-complete');\n",
              "    }\n",
              "    (() => {\n",
              "      let quickchartButtonEl =\n",
              "        document.querySelector('#df-e0eedfcd-e3dc-4cf9-b756-06dfa154e916 button');\n",
              "      quickchartButtonEl.style.display =\n",
              "        google.colab.kernel.accessAllowed ? 'block' : 'none';\n",
              "    })();\n",
              "  </script>\n",
              "</div>\n",
              "\n",
              "    </div>\n",
              "  </div>\n"
            ],
            "application/vnd.google.colaboratory.intrinsic+json": {
              "type": "dataframe",
              "summary": "{\n  \"name\": \"display(y_raw\",\n  \"rows\": 5,\n  \"fields\": [\n    {\n      \"column\": \"class\",\n      \"properties\": {\n        \"dtype\": \"category\",\n        \"num_unique_values\": 1,\n        \"samples\": [\n          \"unacc\"\n        ],\n        \"semantic_type\": \"\",\n        \"description\": \"\"\n      }\n    }\n  ]\n}"
            }
          },
          "metadata": {}
        }
      ]
    },
    {
      "cell_type": "code",
      "source": [
        "print(X_raw.columns)"
      ],
      "metadata": {
        "colab": {
          "base_uri": "https://localhost:8080/"
        },
        "id": "o7aXTv8nqqo6",
        "outputId": "e9bf040e-df63-4026-dead-bd4eb75b2af1"
      },
      "execution_count": 6,
      "outputs": [
        {
          "output_type": "stream",
          "name": "stdout",
          "text": [
            "Index(['buying', 'maint', 'doors', 'persons', 'lug_boot', 'safety'], dtype='object')\n"
          ]
        }
      ]
    },
    {
      "cell_type": "markdown",
      "source": [],
      "metadata": {
        "id": "vAZDYxhQu_Nx"
      }
    },
    {
      "cell_type": "markdown",
      "source": [
        "# Dataset Encoding and Preprocessing"
      ],
      "metadata": {
        "id": "SOgXm6PrG9ao"
      }
    },
    {
      "cell_type": "markdown",
      "source": [
        "**Overview of the data**"
      ],
      "metadata": {
        "id": "59QvyrrfbdeD"
      }
    },
    {
      "cell_type": "code",
      "source": [
        "print(\"Missing values in features:\\n\", X_raw.isnull().sum())\n",
        "print(\"\\nMissing values in target:\\n\", y_raw.isnull().sum())"
      ],
      "metadata": {
        "colab": {
          "base_uri": "https://localhost:8080/"
        },
        "id": "Uc54B2pZbSzX",
        "outputId": "bad24e5c-5a98-46d8-d00f-a5c58c6c5a73"
      },
      "execution_count": 7,
      "outputs": [
        {
          "output_type": "stream",
          "name": "stdout",
          "text": [
            "Missing values in features:\n",
            " buying      0\n",
            "maint       0\n",
            "doors       0\n",
            "persons     0\n",
            "lug_boot    0\n",
            "safety      0\n",
            "dtype: int64\n",
            "\n",
            "Missing values in target:\n",
            " class    0\n",
            "dtype: int64\n"
          ]
        }
      ]
    },
    {
      "cell_type": "code",
      "source": [
        "for column in X_raw.columns:\n",
        "    print(f\"{column} unique values:\", X_raw[column].unique())\n",
        "\n",
        "print(\"\\nTarget class distribution:\")\n",
        "print(y_raw['class'].value_counts())\n"
      ],
      "metadata": {
        "colab": {
          "base_uri": "https://localhost:8080/"
        },
        "id": "OtX1FrhTbVhO",
        "outputId": "ae928ef4-cf28-4c84-ef60-ee9092e83906"
      },
      "execution_count": 8,
      "outputs": [
        {
          "output_type": "stream",
          "name": "stdout",
          "text": [
            "buying unique values: ['vhigh' 'high' 'med' 'low']\n",
            "maint unique values: ['vhigh' 'high' 'med' 'low']\n",
            "doors unique values: ['2' '3' '4' '5more']\n",
            "persons unique values: ['2' '4' 'more']\n",
            "lug_boot unique values: ['small' 'med' 'big']\n",
            "safety unique values: ['low' 'med' 'high']\n",
            "\n",
            "Target class distribution:\n",
            "class\n",
            "unacc    1210\n",
            "acc       384\n",
            "good       69\n",
            "vgood      65\n",
            "Name: count, dtype: int64\n"
          ]
        }
      ]
    },
    {
      "cell_type": "code",
      "source": [
        "from sklearn.preprocessing import OrdinalEncoder\n",
        "import pandas as pd\n",
        "\n",
        "categories = [\n",
        "    [\"low\", \"med\", \"high\", \"vhigh\"],  # for 'buying'\n",
        "    [\"low\", \"med\", \"high\", \"vhigh\"],  # for 'maint'\n",
        "    ['2','3','4','5more'],            # for 'doors'\n",
        "    ['2','4','more'],                 # for 'persons'\n",
        "    ['small', 'med', 'big'],          # for 'lug_boot'\n",
        "    ['low', 'med', 'high'],           # for 'safety'\n",
        "]\n",
        "\n",
        "# Initialize OrdinalEncoder with specified category order\n",
        "ordinal_encoder = OrdinalEncoder(categories=categories)\n",
        "encoded_features = ordinal_encoder.fit_transform(X_raw)\n",
        "X_encoded = pd.DataFrame(encoded_features, columns=X_raw.columns)\n",
        "\n",
        "# Binary encoding for target variable\n",
        "y_encoded = y_raw.replace({'unacc': 0, 'acc': 1, 'good': 1, 'vgood': 1})  # acceptable = 1, unacceptable = 0\n",
        "\n",
        "# Display the encoded features and target\n",
        "print(\"Encoded Features:\")\n",
        "display(X_encoded.head())\n",
        "print(\"\\nEncoded Target (class):\")\n",
        "display(y_encoded.head())\n"
      ],
      "metadata": {
        "colab": {
          "base_uri": "https://localhost:8080/",
          "height": 503
        },
        "id": "fCHcmuB3cdNm",
        "outputId": "d101897b-e408-4160-d625-84fff2d9d532"
      },
      "execution_count": 9,
      "outputs": [
        {
          "output_type": "stream",
          "name": "stdout",
          "text": [
            "Encoded Features:\n"
          ]
        },
        {
          "output_type": "stream",
          "name": "stderr",
          "text": [
            "<ipython-input-9-43ee0c7bf19e>:19: FutureWarning: Downcasting behavior in `replace` is deprecated and will be removed in a future version. To retain the old behavior, explicitly call `result.infer_objects(copy=False)`. To opt-in to the future behavior, set `pd.set_option('future.no_silent_downcasting', True)`\n",
            "  y_encoded = y_raw.replace({'unacc': 0, 'acc': 1, 'good': 1, 'vgood': 1})  # acceptable = 1, unacceptable = 0\n"
          ]
        },
        {
          "output_type": "display_data",
          "data": {
            "text/plain": [
              "   buying  maint  doors  persons  lug_boot  safety\n",
              "0     3.0    3.0    0.0      0.0       0.0     0.0\n",
              "1     3.0    3.0    0.0      0.0       0.0     1.0\n",
              "2     3.0    3.0    0.0      0.0       0.0     2.0\n",
              "3     3.0    3.0    0.0      0.0       1.0     0.0\n",
              "4     3.0    3.0    0.0      0.0       1.0     1.0"
            ],
            "text/html": [
              "\n",
              "  <div id=\"df-c9ba7769-d75d-49d0-8a51-0c6f71e19dbd\" class=\"colab-df-container\">\n",
              "    <div>\n",
              "<style scoped>\n",
              "    .dataframe tbody tr th:only-of-type {\n",
              "        vertical-align: middle;\n",
              "    }\n",
              "\n",
              "    .dataframe tbody tr th {\n",
              "        vertical-align: top;\n",
              "    }\n",
              "\n",
              "    .dataframe thead th {\n",
              "        text-align: right;\n",
              "    }\n",
              "</style>\n",
              "<table border=\"1\" class=\"dataframe\">\n",
              "  <thead>\n",
              "    <tr style=\"text-align: right;\">\n",
              "      <th></th>\n",
              "      <th>buying</th>\n",
              "      <th>maint</th>\n",
              "      <th>doors</th>\n",
              "      <th>persons</th>\n",
              "      <th>lug_boot</th>\n",
              "      <th>safety</th>\n",
              "    </tr>\n",
              "  </thead>\n",
              "  <tbody>\n",
              "    <tr>\n",
              "      <th>0</th>\n",
              "      <td>3.0</td>\n",
              "      <td>3.0</td>\n",
              "      <td>0.0</td>\n",
              "      <td>0.0</td>\n",
              "      <td>0.0</td>\n",
              "      <td>0.0</td>\n",
              "    </tr>\n",
              "    <tr>\n",
              "      <th>1</th>\n",
              "      <td>3.0</td>\n",
              "      <td>3.0</td>\n",
              "      <td>0.0</td>\n",
              "      <td>0.0</td>\n",
              "      <td>0.0</td>\n",
              "      <td>1.0</td>\n",
              "    </tr>\n",
              "    <tr>\n",
              "      <th>2</th>\n",
              "      <td>3.0</td>\n",
              "      <td>3.0</td>\n",
              "      <td>0.0</td>\n",
              "      <td>0.0</td>\n",
              "      <td>0.0</td>\n",
              "      <td>2.0</td>\n",
              "    </tr>\n",
              "    <tr>\n",
              "      <th>3</th>\n",
              "      <td>3.0</td>\n",
              "      <td>3.0</td>\n",
              "      <td>0.0</td>\n",
              "      <td>0.0</td>\n",
              "      <td>1.0</td>\n",
              "      <td>0.0</td>\n",
              "    </tr>\n",
              "    <tr>\n",
              "      <th>4</th>\n",
              "      <td>3.0</td>\n",
              "      <td>3.0</td>\n",
              "      <td>0.0</td>\n",
              "      <td>0.0</td>\n",
              "      <td>1.0</td>\n",
              "      <td>1.0</td>\n",
              "    </tr>\n",
              "  </tbody>\n",
              "</table>\n",
              "</div>\n",
              "    <div class=\"colab-df-buttons\">\n",
              "\n",
              "  <div class=\"colab-df-container\">\n",
              "    <button class=\"colab-df-convert\" onclick=\"convertToInteractive('df-c9ba7769-d75d-49d0-8a51-0c6f71e19dbd')\"\n",
              "            title=\"Convert this dataframe to an interactive table.\"\n",
              "            style=\"display:none;\">\n",
              "\n",
              "  <svg xmlns=\"http://www.w3.org/2000/svg\" height=\"24px\" viewBox=\"0 -960 960 960\">\n",
              "    <path d=\"M120-120v-720h720v720H120Zm60-500h600v-160H180v160Zm220 220h160v-160H400v160Zm0 220h160v-160H400v160ZM180-400h160v-160H180v160Zm440 0h160v-160H620v160ZM180-180h160v-160H180v160Zm440 0h160v-160H620v160Z\"/>\n",
              "  </svg>\n",
              "    </button>\n",
              "\n",
              "  <style>\n",
              "    .colab-df-container {\n",
              "      display:flex;\n",
              "      gap: 12px;\n",
              "    }\n",
              "\n",
              "    .colab-df-convert {\n",
              "      background-color: #E8F0FE;\n",
              "      border: none;\n",
              "      border-radius: 50%;\n",
              "      cursor: pointer;\n",
              "      display: none;\n",
              "      fill: #1967D2;\n",
              "      height: 32px;\n",
              "      padding: 0 0 0 0;\n",
              "      width: 32px;\n",
              "    }\n",
              "\n",
              "    .colab-df-convert:hover {\n",
              "      background-color: #E2EBFA;\n",
              "      box-shadow: 0px 1px 2px rgba(60, 64, 67, 0.3), 0px 1px 3px 1px rgba(60, 64, 67, 0.15);\n",
              "      fill: #174EA6;\n",
              "    }\n",
              "\n",
              "    .colab-df-buttons div {\n",
              "      margin-bottom: 4px;\n",
              "    }\n",
              "\n",
              "    [theme=dark] .colab-df-convert {\n",
              "      background-color: #3B4455;\n",
              "      fill: #D2E3FC;\n",
              "    }\n",
              "\n",
              "    [theme=dark] .colab-df-convert:hover {\n",
              "      background-color: #434B5C;\n",
              "      box-shadow: 0px 1px 3px 1px rgba(0, 0, 0, 0.15);\n",
              "      filter: drop-shadow(0px 1px 2px rgba(0, 0, 0, 0.3));\n",
              "      fill: #FFFFFF;\n",
              "    }\n",
              "  </style>\n",
              "\n",
              "    <script>\n",
              "      const buttonEl =\n",
              "        document.querySelector('#df-c9ba7769-d75d-49d0-8a51-0c6f71e19dbd button.colab-df-convert');\n",
              "      buttonEl.style.display =\n",
              "        google.colab.kernel.accessAllowed ? 'block' : 'none';\n",
              "\n",
              "      async function convertToInteractive(key) {\n",
              "        const element = document.querySelector('#df-c9ba7769-d75d-49d0-8a51-0c6f71e19dbd');\n",
              "        const dataTable =\n",
              "          await google.colab.kernel.invokeFunction('convertToInteractive',\n",
              "                                                    [key], {});\n",
              "        if (!dataTable) return;\n",
              "\n",
              "        const docLinkHtml = 'Like what you see? Visit the ' +\n",
              "          '<a target=\"_blank\" href=https://colab.research.google.com/notebooks/data_table.ipynb>data table notebook</a>'\n",
              "          + ' to learn more about interactive tables.';\n",
              "        element.innerHTML = '';\n",
              "        dataTable['output_type'] = 'display_data';\n",
              "        await google.colab.output.renderOutput(dataTable, element);\n",
              "        const docLink = document.createElement('div');\n",
              "        docLink.innerHTML = docLinkHtml;\n",
              "        element.appendChild(docLink);\n",
              "      }\n",
              "    </script>\n",
              "  </div>\n",
              "\n",
              "\n",
              "<div id=\"df-5d530b59-bdfa-4e2d-b83e-d3c512ce9226\">\n",
              "  <button class=\"colab-df-quickchart\" onclick=\"quickchart('df-5d530b59-bdfa-4e2d-b83e-d3c512ce9226')\"\n",
              "            title=\"Suggest charts\"\n",
              "            style=\"display:none;\">\n",
              "\n",
              "<svg xmlns=\"http://www.w3.org/2000/svg\" height=\"24px\"viewBox=\"0 0 24 24\"\n",
              "     width=\"24px\">\n",
              "    <g>\n",
              "        <path d=\"M19 3H5c-1.1 0-2 .9-2 2v14c0 1.1.9 2 2 2h14c1.1 0 2-.9 2-2V5c0-1.1-.9-2-2-2zM9 17H7v-7h2v7zm4 0h-2V7h2v10zm4 0h-2v-4h2v4z\"/>\n",
              "    </g>\n",
              "</svg>\n",
              "  </button>\n",
              "\n",
              "<style>\n",
              "  .colab-df-quickchart {\n",
              "      --bg-color: #E8F0FE;\n",
              "      --fill-color: #1967D2;\n",
              "      --hover-bg-color: #E2EBFA;\n",
              "      --hover-fill-color: #174EA6;\n",
              "      --disabled-fill-color: #AAA;\n",
              "      --disabled-bg-color: #DDD;\n",
              "  }\n",
              "\n",
              "  [theme=dark] .colab-df-quickchart {\n",
              "      --bg-color: #3B4455;\n",
              "      --fill-color: #D2E3FC;\n",
              "      --hover-bg-color: #434B5C;\n",
              "      --hover-fill-color: #FFFFFF;\n",
              "      --disabled-bg-color: #3B4455;\n",
              "      --disabled-fill-color: #666;\n",
              "  }\n",
              "\n",
              "  .colab-df-quickchart {\n",
              "    background-color: var(--bg-color);\n",
              "    border: none;\n",
              "    border-radius: 50%;\n",
              "    cursor: pointer;\n",
              "    display: none;\n",
              "    fill: var(--fill-color);\n",
              "    height: 32px;\n",
              "    padding: 0;\n",
              "    width: 32px;\n",
              "  }\n",
              "\n",
              "  .colab-df-quickchart:hover {\n",
              "    background-color: var(--hover-bg-color);\n",
              "    box-shadow: 0 1px 2px rgba(60, 64, 67, 0.3), 0 1px 3px 1px rgba(60, 64, 67, 0.15);\n",
              "    fill: var(--button-hover-fill-color);\n",
              "  }\n",
              "\n",
              "  .colab-df-quickchart-complete:disabled,\n",
              "  .colab-df-quickchart-complete:disabled:hover {\n",
              "    background-color: var(--disabled-bg-color);\n",
              "    fill: var(--disabled-fill-color);\n",
              "    box-shadow: none;\n",
              "  }\n",
              "\n",
              "  .colab-df-spinner {\n",
              "    border: 2px solid var(--fill-color);\n",
              "    border-color: transparent;\n",
              "    border-bottom-color: var(--fill-color);\n",
              "    animation:\n",
              "      spin 1s steps(1) infinite;\n",
              "  }\n",
              "\n",
              "  @keyframes spin {\n",
              "    0% {\n",
              "      border-color: transparent;\n",
              "      border-bottom-color: var(--fill-color);\n",
              "      border-left-color: var(--fill-color);\n",
              "    }\n",
              "    20% {\n",
              "      border-color: transparent;\n",
              "      border-left-color: var(--fill-color);\n",
              "      border-top-color: var(--fill-color);\n",
              "    }\n",
              "    30% {\n",
              "      border-color: transparent;\n",
              "      border-left-color: var(--fill-color);\n",
              "      border-top-color: var(--fill-color);\n",
              "      border-right-color: var(--fill-color);\n",
              "    }\n",
              "    40% {\n",
              "      border-color: transparent;\n",
              "      border-right-color: var(--fill-color);\n",
              "      border-top-color: var(--fill-color);\n",
              "    }\n",
              "    60% {\n",
              "      border-color: transparent;\n",
              "      border-right-color: var(--fill-color);\n",
              "    }\n",
              "    80% {\n",
              "      border-color: transparent;\n",
              "      border-right-color: var(--fill-color);\n",
              "      border-bottom-color: var(--fill-color);\n",
              "    }\n",
              "    90% {\n",
              "      border-color: transparent;\n",
              "      border-bottom-color: var(--fill-color);\n",
              "    }\n",
              "  }\n",
              "</style>\n",
              "\n",
              "  <script>\n",
              "    async function quickchart(key) {\n",
              "      const quickchartButtonEl =\n",
              "        document.querySelector('#' + key + ' button');\n",
              "      quickchartButtonEl.disabled = true;  // To prevent multiple clicks.\n",
              "      quickchartButtonEl.classList.add('colab-df-spinner');\n",
              "      try {\n",
              "        const charts = await google.colab.kernel.invokeFunction(\n",
              "            'suggestCharts', [key], {});\n",
              "      } catch (error) {\n",
              "        console.error('Error during call to suggestCharts:', error);\n",
              "      }\n",
              "      quickchartButtonEl.classList.remove('colab-df-spinner');\n",
              "      quickchartButtonEl.classList.add('colab-df-quickchart-complete');\n",
              "    }\n",
              "    (() => {\n",
              "      let quickchartButtonEl =\n",
              "        document.querySelector('#df-5d530b59-bdfa-4e2d-b83e-d3c512ce9226 button');\n",
              "      quickchartButtonEl.style.display =\n",
              "        google.colab.kernel.accessAllowed ? 'block' : 'none';\n",
              "    })();\n",
              "  </script>\n",
              "</div>\n",
              "\n",
              "    </div>\n",
              "  </div>\n"
            ],
            "application/vnd.google.colaboratory.intrinsic+json": {
              "type": "dataframe",
              "summary": "{\n  \"name\": \"display(y_encoded\",\n  \"rows\": 5,\n  \"fields\": [\n    {\n      \"column\": \"buying\",\n      \"properties\": {\n        \"dtype\": \"number\",\n        \"std\": 0.0,\n        \"min\": 3.0,\n        \"max\": 3.0,\n        \"num_unique_values\": 1,\n        \"samples\": [\n          3.0\n        ],\n        \"semantic_type\": \"\",\n        \"description\": \"\"\n      }\n    },\n    {\n      \"column\": \"maint\",\n      \"properties\": {\n        \"dtype\": \"number\",\n        \"std\": 0.0,\n        \"min\": 3.0,\n        \"max\": 3.0,\n        \"num_unique_values\": 1,\n        \"samples\": [\n          3.0\n        ],\n        \"semantic_type\": \"\",\n        \"description\": \"\"\n      }\n    },\n    {\n      \"column\": \"doors\",\n      \"properties\": {\n        \"dtype\": \"number\",\n        \"std\": 0.0,\n        \"min\": 0.0,\n        \"max\": 0.0,\n        \"num_unique_values\": 1,\n        \"samples\": [\n          0.0\n        ],\n        \"semantic_type\": \"\",\n        \"description\": \"\"\n      }\n    },\n    {\n      \"column\": \"persons\",\n      \"properties\": {\n        \"dtype\": \"number\",\n        \"std\": 0.0,\n        \"min\": 0.0,\n        \"max\": 0.0,\n        \"num_unique_values\": 1,\n        \"samples\": [\n          0.0\n        ],\n        \"semantic_type\": \"\",\n        \"description\": \"\"\n      }\n    },\n    {\n      \"column\": \"lug_boot\",\n      \"properties\": {\n        \"dtype\": \"number\",\n        \"std\": 0.5477225575051662,\n        \"min\": 0.0,\n        \"max\": 1.0,\n        \"num_unique_values\": 2,\n        \"samples\": [\n          1.0\n        ],\n        \"semantic_type\": \"\",\n        \"description\": \"\"\n      }\n    },\n    {\n      \"column\": \"safety\",\n      \"properties\": {\n        \"dtype\": \"number\",\n        \"std\": 0.8366600265340756,\n        \"min\": 0.0,\n        \"max\": 2.0,\n        \"num_unique_values\": 3,\n        \"samples\": [\n          0.0\n        ],\n        \"semantic_type\": \"\",\n        \"description\": \"\"\n      }\n    }\n  ]\n}"
            }
          },
          "metadata": {}
        },
        {
          "output_type": "stream",
          "name": "stdout",
          "text": [
            "\n",
            "Encoded Target (class):\n"
          ]
        },
        {
          "output_type": "display_data",
          "data": {
            "text/plain": [
              "   class\n",
              "0      0\n",
              "1      0\n",
              "2      0\n",
              "3      0\n",
              "4      0"
            ],
            "text/html": [
              "\n",
              "  <div id=\"df-7f7a2d91-5094-4e12-8016-f031b9fb24d3\" class=\"colab-df-container\">\n",
              "    <div>\n",
              "<style scoped>\n",
              "    .dataframe tbody tr th:only-of-type {\n",
              "        vertical-align: middle;\n",
              "    }\n",
              "\n",
              "    .dataframe tbody tr th {\n",
              "        vertical-align: top;\n",
              "    }\n",
              "\n",
              "    .dataframe thead th {\n",
              "        text-align: right;\n",
              "    }\n",
              "</style>\n",
              "<table border=\"1\" class=\"dataframe\">\n",
              "  <thead>\n",
              "    <tr style=\"text-align: right;\">\n",
              "      <th></th>\n",
              "      <th>class</th>\n",
              "    </tr>\n",
              "  </thead>\n",
              "  <tbody>\n",
              "    <tr>\n",
              "      <th>0</th>\n",
              "      <td>0</td>\n",
              "    </tr>\n",
              "    <tr>\n",
              "      <th>1</th>\n",
              "      <td>0</td>\n",
              "    </tr>\n",
              "    <tr>\n",
              "      <th>2</th>\n",
              "      <td>0</td>\n",
              "    </tr>\n",
              "    <tr>\n",
              "      <th>3</th>\n",
              "      <td>0</td>\n",
              "    </tr>\n",
              "    <tr>\n",
              "      <th>4</th>\n",
              "      <td>0</td>\n",
              "    </tr>\n",
              "  </tbody>\n",
              "</table>\n",
              "</div>\n",
              "    <div class=\"colab-df-buttons\">\n",
              "\n",
              "  <div class=\"colab-df-container\">\n",
              "    <button class=\"colab-df-convert\" onclick=\"convertToInteractive('df-7f7a2d91-5094-4e12-8016-f031b9fb24d3')\"\n",
              "            title=\"Convert this dataframe to an interactive table.\"\n",
              "            style=\"display:none;\">\n",
              "\n",
              "  <svg xmlns=\"http://www.w3.org/2000/svg\" height=\"24px\" viewBox=\"0 -960 960 960\">\n",
              "    <path d=\"M120-120v-720h720v720H120Zm60-500h600v-160H180v160Zm220 220h160v-160H400v160Zm0 220h160v-160H400v160ZM180-400h160v-160H180v160Zm440 0h160v-160H620v160ZM180-180h160v-160H180v160Zm440 0h160v-160H620v160Z\"/>\n",
              "  </svg>\n",
              "    </button>\n",
              "\n",
              "  <style>\n",
              "    .colab-df-container {\n",
              "      display:flex;\n",
              "      gap: 12px;\n",
              "    }\n",
              "\n",
              "    .colab-df-convert {\n",
              "      background-color: #E8F0FE;\n",
              "      border: none;\n",
              "      border-radius: 50%;\n",
              "      cursor: pointer;\n",
              "      display: none;\n",
              "      fill: #1967D2;\n",
              "      height: 32px;\n",
              "      padding: 0 0 0 0;\n",
              "      width: 32px;\n",
              "    }\n",
              "\n",
              "    .colab-df-convert:hover {\n",
              "      background-color: #E2EBFA;\n",
              "      box-shadow: 0px 1px 2px rgba(60, 64, 67, 0.3), 0px 1px 3px 1px rgba(60, 64, 67, 0.15);\n",
              "      fill: #174EA6;\n",
              "    }\n",
              "\n",
              "    .colab-df-buttons div {\n",
              "      margin-bottom: 4px;\n",
              "    }\n",
              "\n",
              "    [theme=dark] .colab-df-convert {\n",
              "      background-color: #3B4455;\n",
              "      fill: #D2E3FC;\n",
              "    }\n",
              "\n",
              "    [theme=dark] .colab-df-convert:hover {\n",
              "      background-color: #434B5C;\n",
              "      box-shadow: 0px 1px 3px 1px rgba(0, 0, 0, 0.15);\n",
              "      filter: drop-shadow(0px 1px 2px rgba(0, 0, 0, 0.3));\n",
              "      fill: #FFFFFF;\n",
              "    }\n",
              "  </style>\n",
              "\n",
              "    <script>\n",
              "      const buttonEl =\n",
              "        document.querySelector('#df-7f7a2d91-5094-4e12-8016-f031b9fb24d3 button.colab-df-convert');\n",
              "      buttonEl.style.display =\n",
              "        google.colab.kernel.accessAllowed ? 'block' : 'none';\n",
              "\n",
              "      async function convertToInteractive(key) {\n",
              "        const element = document.querySelector('#df-7f7a2d91-5094-4e12-8016-f031b9fb24d3');\n",
              "        const dataTable =\n",
              "          await google.colab.kernel.invokeFunction('convertToInteractive',\n",
              "                                                    [key], {});\n",
              "        if (!dataTable) return;\n",
              "\n",
              "        const docLinkHtml = 'Like what you see? Visit the ' +\n",
              "          '<a target=\"_blank\" href=https://colab.research.google.com/notebooks/data_table.ipynb>data table notebook</a>'\n",
              "          + ' to learn more about interactive tables.';\n",
              "        element.innerHTML = '';\n",
              "        dataTable['output_type'] = 'display_data';\n",
              "        await google.colab.output.renderOutput(dataTable, element);\n",
              "        const docLink = document.createElement('div');\n",
              "        docLink.innerHTML = docLinkHtml;\n",
              "        element.appendChild(docLink);\n",
              "      }\n",
              "    </script>\n",
              "  </div>\n",
              "\n",
              "\n",
              "<div id=\"df-f318f6d3-8728-4b47-8468-7f7ee181f71f\">\n",
              "  <button class=\"colab-df-quickchart\" onclick=\"quickchart('df-f318f6d3-8728-4b47-8468-7f7ee181f71f')\"\n",
              "            title=\"Suggest charts\"\n",
              "            style=\"display:none;\">\n",
              "\n",
              "<svg xmlns=\"http://www.w3.org/2000/svg\" height=\"24px\"viewBox=\"0 0 24 24\"\n",
              "     width=\"24px\">\n",
              "    <g>\n",
              "        <path d=\"M19 3H5c-1.1 0-2 .9-2 2v14c0 1.1.9 2 2 2h14c1.1 0 2-.9 2-2V5c0-1.1-.9-2-2-2zM9 17H7v-7h2v7zm4 0h-2V7h2v10zm4 0h-2v-4h2v4z\"/>\n",
              "    </g>\n",
              "</svg>\n",
              "  </button>\n",
              "\n",
              "<style>\n",
              "  .colab-df-quickchart {\n",
              "      --bg-color: #E8F0FE;\n",
              "      --fill-color: #1967D2;\n",
              "      --hover-bg-color: #E2EBFA;\n",
              "      --hover-fill-color: #174EA6;\n",
              "      --disabled-fill-color: #AAA;\n",
              "      --disabled-bg-color: #DDD;\n",
              "  }\n",
              "\n",
              "  [theme=dark] .colab-df-quickchart {\n",
              "      --bg-color: #3B4455;\n",
              "      --fill-color: #D2E3FC;\n",
              "      --hover-bg-color: #434B5C;\n",
              "      --hover-fill-color: #FFFFFF;\n",
              "      --disabled-bg-color: #3B4455;\n",
              "      --disabled-fill-color: #666;\n",
              "  }\n",
              "\n",
              "  .colab-df-quickchart {\n",
              "    background-color: var(--bg-color);\n",
              "    border: none;\n",
              "    border-radius: 50%;\n",
              "    cursor: pointer;\n",
              "    display: none;\n",
              "    fill: var(--fill-color);\n",
              "    height: 32px;\n",
              "    padding: 0;\n",
              "    width: 32px;\n",
              "  }\n",
              "\n",
              "  .colab-df-quickchart:hover {\n",
              "    background-color: var(--hover-bg-color);\n",
              "    box-shadow: 0 1px 2px rgba(60, 64, 67, 0.3), 0 1px 3px 1px rgba(60, 64, 67, 0.15);\n",
              "    fill: var(--button-hover-fill-color);\n",
              "  }\n",
              "\n",
              "  .colab-df-quickchart-complete:disabled,\n",
              "  .colab-df-quickchart-complete:disabled:hover {\n",
              "    background-color: var(--disabled-bg-color);\n",
              "    fill: var(--disabled-fill-color);\n",
              "    box-shadow: none;\n",
              "  }\n",
              "\n",
              "  .colab-df-spinner {\n",
              "    border: 2px solid var(--fill-color);\n",
              "    border-color: transparent;\n",
              "    border-bottom-color: var(--fill-color);\n",
              "    animation:\n",
              "      spin 1s steps(1) infinite;\n",
              "  }\n",
              "\n",
              "  @keyframes spin {\n",
              "    0% {\n",
              "      border-color: transparent;\n",
              "      border-bottom-color: var(--fill-color);\n",
              "      border-left-color: var(--fill-color);\n",
              "    }\n",
              "    20% {\n",
              "      border-color: transparent;\n",
              "      border-left-color: var(--fill-color);\n",
              "      border-top-color: var(--fill-color);\n",
              "    }\n",
              "    30% {\n",
              "      border-color: transparent;\n",
              "      border-left-color: var(--fill-color);\n",
              "      border-top-color: var(--fill-color);\n",
              "      border-right-color: var(--fill-color);\n",
              "    }\n",
              "    40% {\n",
              "      border-color: transparent;\n",
              "      border-right-color: var(--fill-color);\n",
              "      border-top-color: var(--fill-color);\n",
              "    }\n",
              "    60% {\n",
              "      border-color: transparent;\n",
              "      border-right-color: var(--fill-color);\n",
              "    }\n",
              "    80% {\n",
              "      border-color: transparent;\n",
              "      border-right-color: var(--fill-color);\n",
              "      border-bottom-color: var(--fill-color);\n",
              "    }\n",
              "    90% {\n",
              "      border-color: transparent;\n",
              "      border-bottom-color: var(--fill-color);\n",
              "    }\n",
              "  }\n",
              "</style>\n",
              "\n",
              "  <script>\n",
              "    async function quickchart(key) {\n",
              "      const quickchartButtonEl =\n",
              "        document.querySelector('#' + key + ' button');\n",
              "      quickchartButtonEl.disabled = true;  // To prevent multiple clicks.\n",
              "      quickchartButtonEl.classList.add('colab-df-spinner');\n",
              "      try {\n",
              "        const charts = await google.colab.kernel.invokeFunction(\n",
              "            'suggestCharts', [key], {});\n",
              "      } catch (error) {\n",
              "        console.error('Error during call to suggestCharts:', error);\n",
              "      }\n",
              "      quickchartButtonEl.classList.remove('colab-df-spinner');\n",
              "      quickchartButtonEl.classList.add('colab-df-quickchart-complete');\n",
              "    }\n",
              "    (() => {\n",
              "      let quickchartButtonEl =\n",
              "        document.querySelector('#df-f318f6d3-8728-4b47-8468-7f7ee181f71f button');\n",
              "      quickchartButtonEl.style.display =\n",
              "        google.colab.kernel.accessAllowed ? 'block' : 'none';\n",
              "    })();\n",
              "  </script>\n",
              "</div>\n",
              "\n",
              "    </div>\n",
              "  </div>\n"
            ],
            "application/vnd.google.colaboratory.intrinsic+json": {
              "type": "dataframe",
              "summary": "{\n  \"name\": \"display(y_encoded\",\n  \"rows\": 5,\n  \"fields\": [\n    {\n      \"column\": \"class\",\n      \"properties\": {\n        \"dtype\": \"number\",\n        \"std\": 0,\n        \"min\": 0,\n        \"max\": 0,\n        \"num_unique_values\": 1,\n        \"samples\": [\n          0\n        ],\n        \"semantic_type\": \"\",\n        \"description\": \"\"\n      }\n    }\n  ]\n}"
            }
          },
          "metadata": {}
        }
      ]
    },
    {
      "cell_type": "markdown",
      "source": [
        "# Dataset visualization"
      ],
      "metadata": {
        "id": "LMAroZQd9LkB"
      }
    },
    {
      "cell_type": "markdown",
      "source": [
        "**Boxplot**"
      ],
      "metadata": {
        "id": "JmgrfCq_iu_J"
      }
    },
    {
      "cell_type": "code",
      "source": [
        "from sklearn.preprocessing import StandardScaler\n",
        "import matplotlib.pyplot as plt\n",
        "import seaborn as sns\n",
        "scaler = StandardScaler()\n",
        "Xs = scaler.fit_transform(X_encoded)\n",
        "fig,ax=plt.subplots(1,figsize=(20,8))\n",
        "sns.boxplot(data=Xs,ax=ax)\n",
        "\n"
      ],
      "metadata": {
        "colab": {
          "base_uri": "https://localhost:8080/",
          "height": 557
        },
        "id": "cgpy5JhRDszt",
        "outputId": "aaa7d9db-b7ba-4217-9798-34105a272923"
      },
      "execution_count": 10,
      "outputs": [
        {
          "output_type": "execute_result",
          "data": {
            "text/plain": [
              "<Axes: >"
            ]
          },
          "metadata": {},
          "execution_count": 10
        },
        {
          "output_type": "display_data",
          "data": {
            "text/plain": [
              "<Figure size 2000x800 with 1 Axes>"
            ],
            "image/png": "[encoded data removed]"
          },
          "metadata": {}
        }
      ]
    },
    {
      "cell_type": "markdown",
      "source": [
        "Class Distribution:"
      ],
      "metadata": {
        "id": "JiWPxDX_df-8"
      }
    },
    {
      "cell_type": "code",
      "source": [
        "\n",
        "\n",
        "sns.countplot(data=y_raw, x='class')\n",
        "plt.title(\"Distribution of Car Acceptability Classes\")\n",
        "plt.show()\n"
      ],
      "metadata": {
        "colab": {
          "base_uri": "https://localhost:8080/",
          "height": 472
        },
        "id": "82jZRZqSdZYo",
        "outputId": "53333e74-9b19-4c38-cb9e-1dc812896817"
      },
      "execution_count": 11,
      "outputs": [
        {
          "output_type": "display_data",
          "data": {
            "text/plain": [
              "<Figure size 640x480 with 1 Axes>"
            ],
            "image/png": "[encoded data removed]"
          },
          "metadata": {}
        }
      ]
    },
    {
      "cell_type": "markdown",
      "source": [
        "Distribution of Feature Variable"
      ],
      "metadata": {
        "id": "Fog5JUApd2bS"
      }
    },
    {
      "cell_type": "code",
      "source": [
        "for column in X_raw.columns:\n",
        "    plt.figure(figsize=(6, 4))\n",
        "    sns.countplot(data=X_raw, x=column)\n",
        "    plt.title(f\"Distribution of {column}\")\n",
        "    plt.show()"
      ],
      "metadata": {
        "colab": {
          "base_uri": "https://localhost:8080/",
          "height": 1000
        },
        "id": "RuHu6KKiePnm",
        "outputId": "ab1b0ea3-c9c7-4d1a-c687-fee64209de86"
      },
      "execution_count": 12,
      "outputs": [
        {
          "output_type": "display_data",
          "data": {
            "text/plain": [
              "<Figure size 600x400 with 1 Axes>"
            ],
            "image/png": "[encoded data removed]"
          },
          "metadata": {}
        },
        {
          "output_type": "display_data",
          "data": {
            "text/plain": [
              "<Figure size 600x400 with 1 Axes>"
            ],
            "image/png": "[encoded data removed]"
          },
          "metadata": {}
        },
        {
          "output_type": "display_data",
          "data": {
            "text/plain": [
              "<Figure size 600x400 with 1 Axes>"
            ],
            "image/png": "[encoded data removed]"
          },
          "metadata": {}
        },
        {
          "output_type": "display_data",
          "data": {
            "text/plain": [
              "<Figure size 600x400 with 1 Axes>"
            ],
            "image/png": "[encoded data removed]"
          },
          "metadata": {}
        },
        {
          "output_type": "display_data",
          "data": {
            "text/plain": [
              "<Figure size 600x400 with 1 Axes>"
            ],
            "image/png": "[encoded data removed]"
          },
          "metadata": {}
        },
        {
          "output_type": "display_data",
          "data": {
            "text/plain": [
              "<Figure size 600x400 with 1 Axes>"
            ],
            "image/png": "[encoded data removed]"
          },
          "metadata": {}
        }
      ]
    },
    {
      "cell_type": "markdown",
      "source": [
        "**Heatmap**\n",
        "Since the target variable is categorical, it’s helpful to visualize how each feature’s levels relate to each category of the target variable"
      ],
      "metadata": {
        "id": "7nsJuOoaeuJ5"
      }
    },
    {
      "cell_type": "code",
      "source": [
        "# Compute the correlation matrix\n",
        "correlation_matrix = X_encoded.corr()\n",
        "\n",
        "# Plot the correlation heatmap\n",
        "plt.figure(figsize=(12, 10))\n",
        "sns.heatmap(\n",
        "    correlation_matrix,\n",
        "    annot=True,\n",
        "    cmap=\"coolwarm\",\n",
        "    vmin=-1, vmax=1,\n",
        "    fmt=\".2f\",  # Limit decimals for clarity\n",
        "    annot_kws={\"size\": 8}  # Adjust annotation size for readability\n",
        ")\n",
        "plt.title(\"Correlation Heatmap of Encoded Features\")\n",
        "plt.xticks(rotation=45, ha='right')\n",
        "plt.yticks(rotation=0)\n",
        "plt.tight_layout()\n",
        "plt.show()"
      ],
      "metadata": {
        "colab": {
          "base_uri": "https://localhost:8080/",
          "height": 1000
        },
        "id": "zANXUUY7d2uR",
        "outputId": "abc4edfd-040f-4214-aa01-f63af764d144"
      },
      "execution_count": 13,
      "outputs": [
        {
          "output_type": "display_data",
          "data": {
            "text/plain": [
              "<Figure size 1200x1000 with 2 Axes>"
            ],
            "image/png": "[encoded data removed]"
          },
          "metadata": {}
        }
      ]
    },
    {
      "cell_type": "code",
      "source": [
        "# Plot the relationship of each feature with the target variable\n",
        "for column in X_encoded.columns:\n",
        "    plt.figure(figsize=(8, 6))\n",
        "    sns.countplot(data=pd.concat([X_encoded, y_raw], axis=1), x=column, hue='class')\n",
        "    plt.title(f\"{column} by Car Acceptability Class\")\n",
        "    plt.xticks(rotation=45)\n",
        "    plt.tight_layout()\n",
        "    plt.show()"
      ],
      "metadata": {
        "colab": {
          "base_uri": "https://localhost:8080/",
          "height": 1000
        },
        "id": "9AdLAGnwfDio",
        "outputId": "c6bae1ef-445e-490d-92fd-e2c48486f862"
      },
      "execution_count": 14,
      "outputs": [
        {
          "output_type": "display_data",
          "data": {
            "text/plain": [
              "<Figure size 800x600 with 1 Axes>"
            ],
            "image/png": "[encoded data removed]"
          },
          "metadata": {}
        },
        {
          "output_type": "display_data",
          "data": {
            "text/plain": [
              "<Figure size 800x600 with 1 Axes>"
            ],
            "image/png": "[encoded data removed]"
          },
          "metadata": {}
        },
        {
          "output_type": "display_data",
          "data": {
            "text/plain": [
              "<Figure size 800x600 with 1 Axes>"
            ],
            "image/png": "[encoded data removed]"
          },
          "metadata": {}
        },
        {
          "output_type": "display_data",
          "data": {
            "text/plain": [
              "<Figure size 800x600 with 1 Axes>"
            ],
            "image/png": "[encoded data removed]"
          },
          "metadata": {}
        },
        {
          "output_type": "display_data",
          "data": {
            "text/plain": [
              "<Figure size 800x600 with 1 Axes>"
            ],
            "image/png": "[encoded data removed]"
          },
          "metadata": {}
        },
        {
          "output_type": "display_data",
          "data": {
            "text/plain": [
              "<Figure size 800x600 with 1 Axes>"
            ],
            "image/png": "[encoded data removed]"
          },
          "metadata": {}
        }
      ]
    },
    {
      "cell_type": "markdown",
      "source": [
        "Summary of the data analysis:\n",
        "\n",
        "Class Imbalance: Most cars are rated as \"unacceptable,\" so we have fewer examples of other classes. This might impact model accuracy.\n",
        "\n",
        "Features are mostly independent of each other.\n",
        "\n",
        "Importnatn features: safety and persons seem important—higher safety ratings.\n"
      ],
      "metadata": {
        "id": "Y1qJn_SKhVw3"
      }
    },
    {
      "cell_type": "code",
      "source": [],
      "metadata": {
        "id": "GGYJx64JethC"
      },
      "execution_count": 14,
      "outputs": []
    },
    {
      "cell_type": "markdown",
      "source": [
        "**Overall, the dataset looks clean.**"
      ],
      "metadata": {
        "id": "9w02xVkni3l2"
      }
    },
    {
      "cell_type": "markdown",
      "source": [
        "# Dataset Splitting"
      ],
      "metadata": {
        "id": "vbO7_ReVFZye"
      }
    },
    {
      "cell_type": "markdown",
      "source": [
        "**Split Data into Training, Validation, and Testing Sets**"
      ],
      "metadata": {
        "id": "ppmjVfkGHjfh"
      }
    },
    {
      "cell_type": "code",
      "source": [
        "Xs = X_encoded # features\n",
        "y = y_encoded # all outputs"
      ],
      "metadata": {
        "id": "uWgJHcxXJrkG"
      },
      "execution_count": 15,
      "outputs": []
    },
    {
      "cell_type": "markdown",
      "source": [
        "Training Set: 70% of the original data (Xs_train and y_train)\n",
        "\n",
        "Validation Set: 15% of the original data (Xs_val and y_val)\n",
        "\n",
        "Testing Set: 15% of the original data (Xs_test and y_test)"
      ],
      "metadata": {
        "id": "npSmthmsKkvx"
      }
    },
    {
      "cell_type": "code",
      "execution_count": 16,
      "metadata": {
        "id": "CnUk8eHl88RK",
        "colab": {
          "base_uri": "https://localhost:8080/"
        },
        "outputId": "6a6435e2-6422-4667-9722-33d1c87e5e63"
      },
      "outputs": [
        {
          "output_type": "stream",
          "name": "stdout",
          "text": [
            "Training set size: 1209\n",
            "Validation set size: 260\n",
            "Testing set size: 259\n"
          ]
        }
      ],
      "source": [
        "from sklearn.model_selection import train_test_split\n",
        "# split the data into training + remaining (validation + testing)\n",
        "Xs_train, Xs_rem, y_train, y_rem = train_test_split(Xs, y, test_size=0.3, random_state=42)\n",
        "\n",
        "\n",
        "# split the remaining data into validation and testing sets\n",
        "Xs_test, Xs_val, y_test, y_val = train_test_split(Xs_rem, y_rem, test_size=0.5, random_state=42) # 0.5 x 0.3 = 0.15\n",
        "\n",
        "\n",
        "# Display the sizes of each set to confirm\n",
        "print(\"Training set size:\", Xs_train.shape[0])\n",
        "print(\"Validation set size:\", Xs_val.shape[0])\n",
        "print(\"Testing set size:\", Xs_test.shape[0])"
      ]
    },
    {
      "cell_type": "markdown",
      "source": [
        "# Training: Classification task models"
      ],
      "metadata": {
        "id": "MyRs4unrMSI8"
      }
    },
    {
      "cell_type": "code",
      "source": [
        "from sklearn.linear_model import LogisticRegression\n",
        "from sklearn.svm import SVC\n",
        "from sklearn.tree import DecisionTreeClassifier\n",
        "from sklearn.neural_network import  MLPClassifier\n",
        "from sklearn.metrics import accuracy_score, classification_report, confusion_matrix\n",
        "from sklearn.tree import DecisionTreeRegressor\n"
      ],
      "metadata": {
        "id": "vAZovvi-MjUa"
      },
      "execution_count": 17,
      "outputs": []
    },
    {
      "cell_type": "markdown",
      "source": [
        "Training Set: 70% of the original data (Xs_train and y_train)\n",
        "\n",
        "Validation Set: 15% of the original data (Xs_val and y_val)\n",
        "\n",
        "Testing Set: 15% of the original data (Xs_test and y_test)"
      ],
      "metadata": {
        "id": "MSguAcecNUYj"
      }
    },
    {
      "cell_type": "markdown",
      "source": [
        "**A. Logistic Regression**"
      ],
      "metadata": {
        "id": "y48GtCXuMmGX"
      }
    },
    {
      "cell_type": "markdown",
      "source": [],
      "metadata": {
        "id": "c84ZkUhONUte"
      }
    },
    {
      "cell_type": "code",
      "execution_count": 18,
      "metadata": {
        "colab": {
          "base_uri": "https://localhost:8080/"
        },
        "id": "2xyr_rRK_-6w",
        "outputId": "cf5e1a7c-d710-4bce-fba1-a3ebe1948e4a"
      },
      "outputs": [
        {
          "output_type": "stream",
          "name": "stdout",
          "text": [
            "Logistic Regression Validation Accuracy:0.85 - misleading because we have an imbalanced dataset (e.g more unacceptable casrs than acceptable cars).\n"
          ]
        }
      ],
      "source": [
        "# Initialize the Logistic Regression model\n",
        "log_reg = LogisticRegression(max_iter=2000, random_state=42)\n",
        "\n",
        "# Train the model on the training set\n",
        "log_reg.fit(Xs_train, y_train.values.ravel())\n",
        "\n",
        "# Predict on the validation set\n",
        "y_val_pred = log_reg.predict(Xs_val)\n",
        "\n",
        "# Evaluate using accuracy\n",
        "validation_accuracy = accuracy_score(y_val, y_val_pred)\n",
        "print(f\"Logistic Regression Validation Accuracy:{ validation_accuracy } - misleading because we have an imbalanced dataset (e.g more unacceptable casrs than acceptable cars).\")\n",
        "\n"
      ]
    },
    {
      "cell_type": "code",
      "source": [
        "# Print the classification report\n",
        "print(\"\\nClassification Report:\\n\")\n",
        "print(classification_report(y_val, y_val_pred))\n",
        "print(\"Interpretation:\\n\"\n",
        "      \"- Precision: High precision means predictions for each class are mostly correct.\\n\"\n",
        "      \"- Recall: High recall means the model catches most actual cases for each class.\\n\"\n",
        "      \"- F1-Score: Balances precision and recall, useful when both are important.\\n\")\n",
        "\n",
        "# Print the confusion matrix\n",
        "print(\"\\nConfusion Matrix:\\n\")\n",
        "print(confusion_matrix(y_val, y_val_pred))\n",
        "print(\"Interpretation:\\n\"\n",
        "      \"- Diagonal values: Correct predictions for each class (higher is better).\\n\"\n",
        "      \"- Off-diagonal values: Misclassifications, where improvements may be needed.\\n\")"
      ],
      "metadata": {
        "colab": {
          "base_uri": "https://localhost:8080/"
        },
        "id": "-DqudCp9wYnh",
        "outputId": "0af06068-9ba4-4938-8637-582ab6aa4eb7"
      },
      "execution_count": 19,
      "outputs": [
        {
          "output_type": "stream",
          "name": "stdout",
          "text": [
            "\n",
            "Classification Report:\n",
            "\n",
            "              precision    recall  f1-score   support\n",
            "\n",
            "           0       0.88      0.91      0.89       180\n",
            "           1       0.78      0.71      0.75        80\n",
            "\n",
            "    accuracy                           0.85       260\n",
            "   macro avg       0.83      0.81      0.82       260\n",
            "weighted avg       0.85      0.85      0.85       260\n",
            "\n",
            "Interpretation:\n",
            "- Precision: High precision means predictions for each class are mostly correct.\n",
            "- Recall: High recall means the model catches most actual cases for each class.\n",
            "- F1-Score: Balances precision and recall, useful when both are important.\n",
            "\n",
            "\n",
            "Confusion Matrix:\n",
            "\n",
            "[[164  16]\n",
            " [ 23  57]]\n",
            "Interpretation:\n",
            "- Diagonal values: Correct predictions for each class (higher is better).\n",
            "- Off-diagonal values: Misclassifications, where improvements may be needed.\n",
            "\n"
          ]
        }
      ]
    },
    {
      "cell_type": "markdown",
      "source": [
        "**Hyperparameter Tuning for Logistic Regression Optimisation**"
      ],
      "metadata": {
        "id": "k1GV3Untznaa"
      }
    },
    {
      "cell_type": "code",
      "source": [
        "from sklearn.model_selection import GridSearchCV\n",
        "\n",
        "# Define the parameter grid for tuning\n",
        "param_grid = {\n",
        "    'C': [0.01, 0.1, 1, 10, 100],         # Different regularization strengths\n",
        "    'penalty': ['l2', 'none'],             # Regularization types (only L2 and no regularization for simplicity)\n",
        "    'solver': ['lbfgs', 'liblinear', 'saga']  # Solvers compatible with different penalties\n",
        "}\n",
        "\n",
        "# Set up GridSearchCV\n",
        "grid_search_log_reg = GridSearchCV(LogisticRegression(max_iter=2000, random_state=42), param_grid, cv=5, scoring='accuracy')\n",
        "grid_search_log_reg.fit(Xs_train, y_train.values.ravel())\n",
        "\n",
        "# Best parameters and cross-validated accuracy\n",
        "print(\"Best parameters:\", grid_search_log_reg.best_params_)\n",
        "print(\"Best cross-validated accuracy:\", grid_search_log_reg.best_score_)\n"
      ],
      "metadata": {
        "colab": {
          "base_uri": "https://localhost:8080/"
        },
        "id": "3HxpNzQiyrbG",
        "outputId": "0750b029-a78b-4a5a-daa1-eb468cba4577"
      },
      "execution_count": 20,
      "outputs": [
        {
          "output_type": "stream",
          "name": "stdout",
          "text": [
            "Best parameters: {'C': 1, 'penalty': 'l2', 'solver': 'lbfgs'}\n",
            "Best cross-validated accuracy: 0.866012825348925\n"
          ]
        },
        {
          "output_type": "stream",
          "name": "stderr",
          "text": [
            "/usr/local/lib/python3.10/dist-packages/sklearn/model_selection/_validation.py:540: FitFailedWarning: \n",
            "75 fits failed out of a total of 150.\n",
            "The score on these train-test partitions for these parameters will be set to nan.\n",
            "If these failures are not expected, you can try to debug them by setting error_score='raise'.\n",
            "\n",
            "Below are more details about the failures:\n",
            "--------------------------------------------------------------------------------\n",
            "75 fits failed with the following error:\n",
            "Traceback (most recent call last):\n",
            "  File \"/usr/local/lib/python3.10/dist-packages/sklearn/model_selection/_validation.py\", line 888, in _fit_and_score\n",
            "    estimator.fit(X_train, y_train, **fit_params)\n",
            "  File \"/usr/local/lib/python3.10/dist-packages/sklearn/base.py\", line 1466, in wrapper\n",
            "    estimator._validate_params()\n",
            "  File \"/usr/local/lib/python3.10/dist-packages/sklearn/base.py\", line 666, in _validate_params\n",
            "    validate_parameter_constraints(\n",
            "  File \"/usr/local/lib/python3.10/dist-packages/sklearn/utils/_param_validation.py\", line 95, in validate_parameter_constraints\n",
            "    raise InvalidParameterError(\n",
            "sklearn.utils._param_validation.InvalidParameterError: The 'penalty' parameter of LogisticRegression must be a str among {'elasticnet', 'l1', 'l2'} or None. Got 'none' instead.\n",
            "\n",
            "  warnings.warn(some_fits_failed_message, FitFailedWarning)\n",
            "/usr/local/lib/python3.10/dist-packages/sklearn/model_selection/_search.py:1103: UserWarning: One or more of the test scores are non-finite: [0.82382634 0.80481465 0.82382634        nan        nan        nan\n",
            " 0.86270361 0.84947704 0.86187716        nan        nan        nan\n",
            " 0.86601283 0.85940468 0.86601283        nan        nan        nan\n",
            " 0.86353006 0.86435993 0.86353006        nan        nan        nan\n",
            " 0.86353006 0.86353006 0.86353006        nan        nan        nan]\n",
            "  warnings.warn(\n"
          ]
        }
      ]
    },
    {
      "cell_type": "markdown",
      "source": [
        "**Evaluate the tuned Logistic Regression model**"
      ],
      "metadata": {
        "id": "9Kc4MhaX9fgs"
      }
    },
    {
      "cell_type": "code",
      "source": [
        "# Use the best estimator from the grid search\n",
        "best_log_reg = grid_search_log_reg.best_estimator_\n",
        "\n",
        "# Predict on the validation set\n",
        "y_val_pred = best_log_reg.predict(Xs_val)\n",
        "\n",
        "# Calculate accuracy and print classification report\n",
        "from sklearn.metrics import accuracy_score, classification_report, confusion_matrix\n",
        "\n",
        "val_accuracy = accuracy_score(y_val, y_val_pred)\n",
        "print(\"Tuned Logistic Regression Validation Accuracy:\", val_accuracy)\n",
        "print(\"\\nTuned Logistic Regression Validation Classification Report:\\n\", classification_report(y_val, y_val_pred))\n",
        "print(\"\\nTuned Logistic Regression Validation Confusion Matrix:\\n\", confusion_matrix(y_val, y_val_pred))\n"
      ],
      "metadata": {
        "colab": {
          "base_uri": "https://localhost:8080/"
        },
        "id": "InoiHAax9nFG",
        "outputId": "2aa94e1e-3489-46ca-c5b1-7d00111928b7"
      },
      "execution_count": 21,
      "outputs": [
        {
          "output_type": "stream",
          "name": "stdout",
          "text": [
            "Tuned Logistic Regression Validation Accuracy: 0.85\n",
            "\n",
            "Tuned Logistic Regression Validation Classification Report:\n",
            "               precision    recall  f1-score   support\n",
            "\n",
            "           0       0.88      0.91      0.89       180\n",
            "           1       0.78      0.71      0.75        80\n",
            "\n",
            "    accuracy                           0.85       260\n",
            "   macro avg       0.83      0.81      0.82       260\n",
            "weighted avg       0.85      0.85      0.85       260\n",
            "\n",
            "\n",
            "Tuned Logistic Regression Validation Confusion Matrix:\n",
            " [[164  16]\n",
            " [ 23  57]]\n"
          ]
        }
      ]
    },
    {
      "cell_type": "markdown",
      "source": [
        "Accuracy: 85% on the validation set. \\\n",
        "Class 0 (Unacceptable): High precision (0.88) and recall (0.91), effectively identifying most \"unacceptable\" cases.\\\n",
        "Class 1 (Acceptable): Moderate precision (0.78) and recall (0.71), indicating it misses some \"acceptable\" cases.\\\n",
        "Misclassifications: 16 \"unacceptable\" misclassified as \"acceptable\" and 23 \"acceptable\" misclassified as \"unacceptable.\""
      ],
      "metadata": {
        "id": "0b9xehVCzjaF"
      }
    },
    {
      "cell_type": "markdown",
      "source": [
        "**B. Support Vector Machine (SVM) Classifier**\n"
      ],
      "metadata": {
        "id": "8mpcifK0QWq8"
      }
    },
    {
      "cell_type": "code",
      "source": [
        "# Initialize SVM with linear kernel\n",
        "svm_clf = SVC(kernel='linear', random_state=42)\n",
        "\n",
        "# Train on training data\n",
        "svm_clf.fit(Xs_train, y_train.values.ravel())\n",
        "\n",
        "# Predict on validation set\n",
        "y_val_pred = svm_clf.predict(Xs_val)\n",
        "\n",
        "# Evaluate accuracy and classification report\n",
        "val_accuracy = accuracy_score(y_val, y_val_pred)\n",
        "print(\"SVM Validation Accuracy:\", val_accuracy)\n",
        "print(\"\\nValidation Classification Report:\\n\", classification_report(y_val, y_val_pred))\n",
        "print(\"\\nTuned Linear SVM Validation Confusion Matrix:\\n\", confusion_matrix(y_val, y_val_pred))\n"
      ],
      "metadata": {
        "colab": {
          "base_uri": "https://localhost:8080/"
        },
        "id": "w1oqsvyP1eTV",
        "outputId": "1d451055-2e4f-4af0-ea73-786c4ca655f1"
      },
      "execution_count": 22,
      "outputs": [
        {
          "output_type": "stream",
          "name": "stdout",
          "text": [
            "SVM Validation Accuracy: 0.85\n",
            "\n",
            "Validation Classification Report:\n",
            "               precision    recall  f1-score   support\n",
            "\n",
            "           0       0.88      0.91      0.89       180\n",
            "           1       0.78      0.71      0.75        80\n",
            "\n",
            "    accuracy                           0.85       260\n",
            "   macro avg       0.83      0.81      0.82       260\n",
            "weighted avg       0.85      0.85      0.85       260\n",
            "\n",
            "\n",
            "Tuned Linear SVM Validation Confusion Matrix:\n",
            " [[164  16]\n",
            " [ 23  57]]\n"
          ]
        }
      ]
    },
    {
      "cell_type": "markdown",
      "source": [
        "**Hyperparameter Tuning for SCM Classifier**"
      ],
      "metadata": {
        "id": "cptTz6V4_G1h"
      }
    },
    {
      "cell_type": "code",
      "source": [
        "# Define the parameter grid for tuning\n",
        "param_grid = {'C': [0.01, 0.1, 1, 10, 100]}\n",
        "\n",
        "# Set up GridSearchCV with SVC (Linear Kernel)\n",
        "grid_search_svm = GridSearchCV(SVC(kernel='linear', random_state=42), param_grid, cv=5, scoring='accuracy')\n",
        "grid_search_svm.fit(Xs_train, y_train.values.ravel())\n",
        "\n",
        "# Best parameters and cross-validated accuracy\n",
        "print(\"Best parameters:\", grid_search_svm.best_params_)\n",
        "print(\"Best cross-validated accuracy:\", grid_search_svm.best_score_)\n"
      ],
      "metadata": {
        "colab": {
          "base_uri": "https://localhost:8080/"
        },
        "id": "NriFx2Lk_SYz",
        "outputId": "c26147df-9753-4a0a-ece4-f9f060fc00dd"
      },
      "execution_count": 23,
      "outputs": [
        {
          "output_type": "stream",
          "name": "stdout",
          "text": [
            "Best parameters: {'C': 10}\n",
            "Best cross-validated accuracy: 0.862700181749597\n"
          ]
        }
      ]
    },
    {
      "cell_type": "markdown",
      "source": [
        "**Evaluate the tuned model**"
      ],
      "metadata": {
        "id": "LMCMweI9_KMs"
      }
    },
    {
      "cell_type": "code",
      "source": [
        "# Use the best estimator from the grid search\n",
        "best_svm_linear = grid_search_svm.best_estimator_\n",
        "\n",
        "# Predict on the validation set\n",
        "y_val_pred = best_svm_linear.predict(Xs_val)\n",
        "\n",
        "# Calculate validation accuracy and print detailed metrics\n",
        "val_accuracy = accuracy_score(y_val, y_val_pred)\n",
        "print(\"Tuned Linear SVM Validation Accuracy:\", val_accuracy)\n",
        "print(\"\\nTuned Linear SVM Validation Classification Report:\\n\", classification_report(y_val, y_val_pred))\n",
        "print(\"\\nTuned Linear SVM Validation Confusion Matrix:\\n\", confusion_matrix(y_val, y_val_pred))\n"
      ],
      "metadata": {
        "colab": {
          "base_uri": "https://localhost:8080/"
        },
        "id": "gLWbt8tp_WsQ",
        "outputId": "f8075e35-658d-44b9-c9d8-905b67eb518f"
      },
      "execution_count": 24,
      "outputs": [
        {
          "output_type": "stream",
          "name": "stdout",
          "text": [
            "Tuned Linear SVM Validation Accuracy: 0.85\n",
            "\n",
            "Tuned Linear SVM Validation Classification Report:\n",
            "               precision    recall  f1-score   support\n",
            "\n",
            "           0       0.88      0.91      0.89       180\n",
            "           1       0.78      0.71      0.75        80\n",
            "\n",
            "    accuracy                           0.85       260\n",
            "   macro avg       0.83      0.81      0.82       260\n",
            "weighted avg       0.85      0.85      0.85       260\n",
            "\n",
            "\n",
            "Tuned Linear SVM Validation Confusion Matrix:\n",
            " [[164  16]\n",
            " [ 23  57]]\n"
          ]
        }
      ]
    },
    {
      "cell_type": "markdown",
      "source": [
        "Accuracy: 85% on the validation set. \\\n",
        "Class 0 (Unacceptable): High precision (0.88) and recall (0.91), meaning it accurately captures most \"unacceptable\" cases. \\\n",
        "Class 1 (Acceptable): Moderate precision (0.78) and recall (0.71), indicating it misses some \"acceptable\" cases. \\\n",
        "Misclassifications: 16 \"unacceptable\" misclassified as \"acceptable\" and 23 \"acceptable\" misclassified as \"unacceptable.\""
      ],
      "metadata": {
        "id": "ix6JticCAvC8"
      }
    },
    {
      "cell_type": "markdown",
      "source": [
        "**C. Decision Tree Classifier**"
      ],
      "metadata": {
        "id": "k8nE8Y3ZQbaW"
      }
    },
    {
      "cell_type": "code",
      "execution_count": 25,
      "metadata": {
        "id": "X6zkNVwgB5dA",
        "colab": {
          "base_uri": "https://localhost:8080/"
        },
        "outputId": "54049b8e-b5e7-4250-8567-ee4c1125c9b7"
      },
      "outputs": [
        {
          "output_type": "stream",
          "name": "stdout",
          "text": [
            "Decision Tree Classifier Validation Accuracy: 0.8769230769230769\n",
            "\n",
            "Decision Tree Validation Classification Report:\n",
            "               precision    recall  f1-score   support\n",
            "\n",
            "           0       0.88      0.96      0.91       180\n",
            "           1       0.88      0.70      0.78        80\n",
            "\n",
            "    accuracy                           0.88       260\n",
            "   macro avg       0.88      0.83      0.85       260\n",
            "weighted avg       0.88      0.88      0.87       260\n",
            "\n",
            "\n",
            "Decision Tree Validation Confusion Matrix:\n",
            " [[172   8]\n",
            " [ 24  56]]\n"
          ]
        }
      ],
      "source": [
        "# Initialize the model with a max depth to avoid overfitting\n",
        "tree_reg = DecisionTreeRegressor(max_depth=3, random_state=42)\n",
        "\n",
        "# Initialize the Decision Tree Classifier\n",
        "tree_clf = DecisionTreeClassifier(max_depth=3, random_state=42)\n",
        "\n",
        "# Train the model on the training data\n",
        "tree_clf.fit(Xs_train, y_train.values.ravel())\n",
        "\n",
        "# Predict on the validation set\n",
        "y_val_pred = tree_clf.predict(Xs_val)\n",
        "\n",
        "# Calculate accuracy and print detailed metrics\n",
        "val_accuracy = accuracy_score(y_val, y_val_pred)\n",
        "print(\"Decision Tree Classifier Validation Accuracy:\", val_accuracy)\n",
        "print(\"\\nDecision Tree Validation Classification Report:\\n\", classification_report(y_val, y_val_pred))\n",
        "print(\"\\nDecision Tree Validation Confusion Matrix:\\n\", confusion_matrix(y_val, y_val_pred))"
      ]
    },
    {
      "cell_type": "markdown",
      "source": [
        "Accuracy: 87.69% on both validation set \\\n",
        "Class 0 (Unacceptable): High precision (0.88) and recall (0.91)\n",
        "Class 1 (Acceptable): Strong precision (0.88) and recall (0.71), indicating it misses some cases. \\\n",
        "Misclassified 8 \"unacceptable\" as \"acceptable\" and 24 \"acceptable\" as \"unacceptable.\""
      ],
      "metadata": {
        "id": "HQ1607G7_-yq"
      }
    },
    {
      "cell_type": "markdown",
      "source": [
        "**Hyperparameter Tuning for Decision Tree Classifier**"
      ],
      "metadata": {
        "id": "BsTUU4fNQj8q"
      }
    },
    {
      "cell_type": "code",
      "source": [
        "from sklearn.model_selection import GridSearchCV\n",
        "\n",
        "# Define the parameter grid for tuning\n",
        "param_grid = {\n",
        "    'max_depth': [2, 3, 5, 10, None],\n",
        "    'min_samples_split': [2, 5, 10],\n",
        "    'min_samples_leaf': [1, 2, 4]\n",
        "}\n",
        "\n",
        "# Set up GridSearchCV with Decision Tree Classifier\n",
        "grid_search = GridSearchCV(DecisionTreeClassifier(random_state=42), param_grid, cv=5, scoring='accuracy')\n",
        "grid_search.fit(Xs_train, y_train.values.ravel())\n",
        "\n",
        "# Best parameters and cross-validated score\n",
        "print(\"Best parameters:\", grid_search.best_params_)\n",
        "print(\"Best cross-validated accuracy:\", grid_search.best_score_)\n"
      ],
      "metadata": {
        "colab": {
          "base_uri": "https://localhost:8080/"
        },
        "id": "me5MQLrY5t7J",
        "outputId": "75a79331-23f0-438e-823a-ce2600b17158"
      },
      "execution_count": 26,
      "outputs": [
        {
          "output_type": "stream",
          "name": "stdout",
          "text": [
            "Best parameters: {'max_depth': 10, 'min_samples_leaf': 1, 'min_samples_split': 2}\n",
            "Best cross-validated accuracy: 0.9834470697164021\n"
          ]
        }
      ]
    },
    {
      "cell_type": "markdown",
      "source": [
        "**Evaluate the Tuned Model**"
      ],
      "metadata": {
        "id": "i43_n9zZ6NLX"
      }
    },
    {
      "cell_type": "code",
      "source": [
        "# Use the best estimator from the grid search\n",
        "best_tree_clf = grid_search.best_estimator_\n",
        "\n",
        "# Predict on the validation set\n",
        "y_val_pred = best_tree_clf.predict(Xs_val)\n",
        "\n",
        "# Calculate validation accuracy and print detailed metrics\n",
        "val_accuracy = accuracy_score(y_val, y_val_pred)\n",
        "print(\"Tuned Decision Tree Validation Accuracy:\", val_accuracy)\n",
        "print(\"\\nTuned Decision Tree Validation Classification Report:\\n\", classification_report(y_val, y_val_pred))\n",
        "print(\"\\nTuned Decision Tree Validation Confusion Matrix:\\n\", confusion_matrix(y_val, y_val_pred))\n"
      ],
      "metadata": {
        "colab": {
          "base_uri": "https://localhost:8080/"
        },
        "id": "p-rundKk5xhd",
        "outputId": "24b68cae-2dec-4d32-ebf2-bbd77301d663"
      },
      "execution_count": 27,
      "outputs": [
        {
          "output_type": "stream",
          "name": "stdout",
          "text": [
            "Tuned Decision Tree Validation Accuracy: 0.9884615384615385\n",
            "\n",
            "Tuned Decision Tree Validation Classification Report:\n",
            "               precision    recall  f1-score   support\n",
            "\n",
            "           0       0.99      0.99      0.99       180\n",
            "           1       0.98      0.99      0.98        80\n",
            "\n",
            "    accuracy                           0.99       260\n",
            "   macro avg       0.98      0.99      0.99       260\n",
            "weighted avg       0.99      0.99      0.99       260\n",
            "\n",
            "\n",
            "Tuned Decision Tree Validation Confusion Matrix:\n",
            " [[178   2]\n",
            " [  1  79]]\n"
          ]
        }
      ]
    },
    {
      "cell_type": "markdown",
      "source": [
        "Accuracy: 98.8% on both validation and test sets, indicating strong generalization. \\\n",
        "Class 0 (Unacceptable): Precision and recall both at 0.99, indicating very few errors. \\\n",
        "Class 1 (Acceptable): Strong performance with precision (0.98) and recall (0.99), effectively identifying \"acceptable\" cases. \\\n",
        "Confusion Matrix: Minimal misclassifications, with only 3 errors in tota.\n"
      ],
      "metadata": {
        "id": "iIUff3Vq6R_D"
      }
    },
    {
      "cell_type": "markdown",
      "source": [
        "**D. Multi-Layer Perceptron (MLP) Classifier**"
      ],
      "metadata": {
        "id": "-UBpzlhOQhhs"
      }
    },
    {
      "cell_type": "code",
      "source": [
        "# Initialize the model with basic parameters\n",
        "mlp_clf = MLPClassifier(hidden_layer_sizes=(50, 50), max_iter=1000, random_state=42, early_stopping=True) #Use early stopping for automatic control of overfitting and unnecessary iterations.\n",
        "\n",
        "# Train the model, converting y_train to a NumPy array and using .ravel() to flatten it\n",
        "mlp_clf.fit(Xs_train, y_train.values.ravel())\n",
        "\n",
        "# Predict on the validation set\n",
        "y_val_pred = mlp_clf.predict(Xs_val)\n",
        "\n",
        "# Calculate accuracy and print detailed metrics\n",
        "val_accuracy = accuracy_score(y_val, y_val_pred)\n",
        "print(\"MLP Classifier Validation Accuracy:\", val_accuracy)\n",
        "print(\"\\nMLP Validation Classification Report:\\n\", classification_report(y_val, y_val_pred))\n",
        "print(\"\\nMLP Validation Confusion Matrix:\\n\", confusion_matrix(y_val, y_val_pred))"
      ],
      "metadata": {
        "colab": {
          "base_uri": "https://localhost:8080/"
        },
        "id": "Xv209araOILA",
        "outputId": "ab70b921-53d8-4814-ae9c-eb252e2c598f"
      },
      "execution_count": 28,
      "outputs": [
        {
          "output_type": "stream",
          "name": "stdout",
          "text": [
            "MLP Classifier Validation Accuracy: 0.95\n",
            "\n",
            "MLP Validation Classification Report:\n",
            "               precision    recall  f1-score   support\n",
            "\n",
            "           0       0.97      0.96      0.96       180\n",
            "           1       0.91      0.93      0.92        80\n",
            "\n",
            "    accuracy                           0.95       260\n",
            "   macro avg       0.94      0.94      0.94       260\n",
            "weighted avg       0.95      0.95      0.95       260\n",
            "\n",
            "\n",
            "MLP Validation Confusion Matrix:\n",
            " [[173   7]\n",
            " [  6  74]]\n"
          ]
        }
      ]
    },
    {
      "cell_type": "markdown",
      "source": [
        "**Hyperparameter Tuning for MLP Classifier**"
      ],
      "metadata": {
        "id": "1_ExEL4p7SH6"
      }
    },
    {
      "cell_type": "code",
      "source": [
        "from sklearn.model_selection import GridSearchCV\n",
        "\n",
        "# Define the parameter grid for tuning\n",
        "param_grid = {\n",
        "    'hidden_layer_sizes': [(50,), (50, 50), (100, 50), (100, 100)],\n",
        "    'alpha': [0.0001, 0.001, 0.01],\n",
        "    'learning_rate_init': [0.001, 0.01, 0.1]\n",
        "}\n",
        "\n",
        "# Set up GridSearchCV with MLPClassifier\n",
        "grid_search_mlp = GridSearchCV(MLPClassifier(max_iter=1000, random_state=42, early_stopping=True), param_grid, cv=5, scoring='accuracy')\n",
        "grid_search_mlp.fit(Xs_train, y_train.values.ravel())\n",
        "\n",
        "# Best parameters and cross-validated score\n",
        "print(\"Best parameters:\", grid_search_mlp.best_params_)\n",
        "print(\"Best cross-validated accuracy:\", grid_search_mlp.best_score_)\n"
      ],
      "metadata": {
        "colab": {
          "base_uri": "https://localhost:8080/"
        },
        "id": "jg87MZo7luAl",
        "outputId": "4e164b26-a25d-43f7-c235-b8ef0eb174cb"
      },
      "execution_count": 29,
      "outputs": [
        {
          "output_type": "stream",
          "name": "stdout",
          "text": [
            "Best parameters: {'alpha': 0.0001, 'hidden_layer_sizes': (100, 100), 'learning_rate_init': 0.01}\n",
            "Best cross-validated accuracy: 0.9611055862281814\n"
          ]
        }
      ]
    },
    {
      "cell_type": "markdown",
      "source": [
        "Evaluate the Tuned MLP Model"
      ],
      "metadata": {
        "id": "sKL_hsUQ7cuh"
      }
    },
    {
      "cell_type": "code",
      "source": [
        "# Use the best estimator from the grid search\n",
        "best_mlp = grid_search_mlp.best_estimator_\n",
        "\n",
        "# Predict on the validation set\n",
        "y_val_pred = best_mlp.predict(Xs_val)\n",
        "\n",
        "# Calculate validation accuracy and detailed metrics\n",
        "val_accuracy = accuracy_score(y_val, y_val_pred)\n",
        "print(\"Tuned MLP Validation Accuracy:\", val_accuracy)\n",
        "print(\"\\nTuned MLP Validation Classification Report:\\n\", classification_report(y_val, y_val_pred))\n",
        "print(\"\\nTuned MLP Validation Confusion Matrix:\\n\", confusion_matrix(y_val, y_val_pred))\n"
      ],
      "metadata": {
        "colab": {
          "base_uri": "https://localhost:8080/"
        },
        "id": "A29Ou2in7bgP",
        "outputId": "bf3f17f5-bf22-42b3-ae14-db62fd339d71"
      },
      "execution_count": 30,
      "outputs": [
        {
          "output_type": "stream",
          "name": "stdout",
          "text": [
            "Tuned MLP Validation Accuracy: 0.9576923076923077\n",
            "\n",
            "Tuned MLP Validation Classification Report:\n",
            "               precision    recall  f1-score   support\n",
            "\n",
            "           0       0.97      0.97      0.97       180\n",
            "           1       0.93      0.94      0.93        80\n",
            "\n",
            "    accuracy                           0.96       260\n",
            "   macro avg       0.95      0.95      0.95       260\n",
            "weighted avg       0.96      0.96      0.96       260\n",
            "\n",
            "\n",
            "Tuned MLP Validation Confusion Matrix:\n",
            " [[174   6]\n",
            " [  5  75]]\n"
          ]
        }
      ]
    },
    {
      "cell_type": "markdown",
      "source": [
        "**E. Random forest Classifier**"
      ],
      "metadata": {
        "id": "ZH_iC6_PBJR7"
      }
    },
    {
      "cell_type": "code",
      "source": [
        "from sklearn.ensemble import RandomForestClassifier\n",
        "\n",
        "rf_clf = RandomForestClassifier(random_state=42)\n",
        "rf_clf.fit(Xs_train, y_train.values.ravel())\n",
        "y_val_pred = rf_clf.predict(Xs_val)\n",
        "\n",
        "# Evaluate\n",
        "val_accuracy = accuracy_score(y_val, y_val_pred)\n",
        "print(\"Random Forest Validation Accuracy:\", val_accuracy)\n",
        "print(classification_report(y_val, y_val_pred))\n",
        "print(confusion_matrix(y_val, y_val_pred))\n"
      ],
      "metadata": {
        "colab": {
          "base_uri": "https://localhost:8080/"
        },
        "id": "nrA3Hg4MBORE",
        "outputId": "e6f84338-bb68-415b-826e-addc6a39c6d1"
      },
      "execution_count": 31,
      "outputs": [
        {
          "output_type": "stream",
          "name": "stdout",
          "text": [
            "Random Forest Validation Accuracy: 0.9923076923076923\n",
            "              precision    recall  f1-score   support\n",
            "\n",
            "           0       1.00      0.99      0.99       180\n",
            "           1       0.98      1.00      0.99        80\n",
            "\n",
            "    accuracy                           0.99       260\n",
            "   macro avg       0.99      0.99      0.99       260\n",
            "weighted avg       0.99      0.99      0.99       260\n",
            "\n",
            "[[178   2]\n",
            " [  0  80]]\n"
          ]
        }
      ]
    },
    {
      "cell_type": "markdown",
      "source": [
        "# Models Evaluation"
      ],
      "metadata": {
        "id": "kDDJr0iKF1Ne"
      }
    },
    {
      "cell_type": "markdown",
      "source": [
        "**Cross-Validation k-fold** \\\n",
        "List of models to evaluate"
      ],
      "metadata": {
        "id": "g7eDS-mEsMWZ"
      }
    },
    {
      "cell_type": "code",
      "source": [
        "from sklearn.metrics import f1_score,recall_score,precision_score,make_scorer\n",
        "\n",
        "from sklearn.model_selection import cross_val_score\n",
        "import numpy as np\n",
        "\n",
        "\n",
        "# Define custom scorers for the recommended metrics\n",
        "recall_scorer = make_scorer(recall_score, pos_label=0)   # Recall for \"unacceptable\" (Class 0)\n",
        "precision_scorer = make_scorer(precision_score, pos_label=1)   # Precision for \"acceptable\" (Class 1)\n",
        "f1_scorer = make_scorer(f1_score, average='weighted')    # Weighted F1-score\n",
        "\n",
        "# List of classification models to evaluate\n",
        "models = [\n",
        "    ('Logistic Regression', LogisticRegression(max_iter=1000, random_state=42)),\n",
        "    ('Support Vector Classifier', SVC(kernel='linear', random_state=42)),\n",
        "    ('Decision Tree Classifier', DecisionTreeClassifier(max_depth=3, min_samples_split=10, min_samples_leaf=1, random_state=42)),\n",
        "    ('Random Forest Classifier', RandomForestClassifier(random_state=42)),\n",
        "    ('MLP Classifier', MLPClassifier(hidden_layer_sizes=(50, 50), max_iter=1000, random_state=42, early_stopping=True))\n",
        "]\n",
        "\n",
        "# Dictionaries to store cross-validation results for each metric\n",
        "recall_results = {}\n",
        "precision_results = {}\n",
        "f1_results = {}\n",
        "\n",
        "# Perform 5-fold cross-validation for each model using the custom scorers\n",
        "for model_name, model in models:\n",
        "    recall_scores = cross_val_score(model, Xs, y.values.ravel(), cv=5, scoring=recall_scorer)\n",
        "    precision_scores = cross_val_score(model, Xs, y.values.ravel(), cv=5, scoring=precision_scorer)\n",
        "    f1_scores = cross_val_score(model, Xs, y.values.ravel(), cv=5, scoring=f1_scorer)\n",
        "\n",
        "    mean_recall = np.mean(recall_scores)\n",
        "    mean_precision = np.mean(precision_scores)\n",
        "    mean_f1 = np.mean(f1_scores)\n",
        "\n",
        "    recall_results[model_name] = mean_recall\n",
        "    precision_results[model_name] = mean_precision\n",
        "    f1_results[model_name] = mean_f1\n",
        "\n",
        "    print(f\"{model_name} - Mean CV Recall (Class 0): {mean_recall:.4f}, Mean CV Precision (Class 1): {mean_precision:.4f}, Mean CV F1-Score: {mean_f1:.4f}\")\n",
        "\n",
        "# Identify the best and worst models based on each metric\n",
        "best_recall_model = max(recall_results, key=recall_results.get)\n",
        "best_recall = recall_results[best_recall_model]\n",
        "\n",
        "best_precision_model = max(precision_results, key=precision_results.get)\n",
        "best_precision = precision_results[best_precision_model]\n",
        "\n",
        "best_f1_model = max(f1_results, key=f1_results.get)\n",
        "best_f1 = f1_results[best_f1_model]\n",
        "\n",
        "print(f\"\\nThe best model based on Recall for Class 0 (Unacceptable) is {best_recall_model} with a mean CV recall of {best_recall:.4f}.\\n\")\n",
        "print(f\"The best model based on Precision for Class 1 (Acceptable) is {best_precision_model} with a mean CV precision of {best_precision:.4f}.\\n\")\n",
        "print(f\"The best model based on F1-Score is {best_f1_model} with a mean CV F1-score of {best_f1:.4f}.\")\n",
        "\n"
      ],
      "metadata": {
        "colab": {
          "base_uri": "https://localhost:8080/"
        },
        "id": "nxp0bDkPtzoG",
        "outputId": "d7dbe9b5-765a-4d41-cfec-0f2bd20824de"
      },
      "execution_count": 34,
      "outputs": [
        {
          "output_type": "stream",
          "name": "stdout",
          "text": [
            "Logistic Regression - Mean CV Recall (Class 0): 0.8793, Mean CV Precision (Class 1): 0.7538, Mean CV F1-Score: 0.8268\n",
            "Support Vector Classifier - Mean CV Recall (Class 0): 0.8752, Mean CV Precision (Class 1): 0.7529, Mean CV F1-Score: 0.8300\n"
          ]
        },
        {
          "output_type": "stream",
          "name": "stderr",
          "text": [
            "/usr/local/lib/python3.10/dist-packages/sklearn/metrics/_classification.py:1531: UndefinedMetricWarning: Precision is ill-defined and being set to 0.0 due to no predicted samples. Use `zero_division` parameter to control this behavior.\n",
            "  _warn_prf(average, modifier, f\"{metric.capitalize()} is\", len(result))\n"
          ]
        },
        {
          "output_type": "stream",
          "name": "stdout",
          "text": [
            "Decision Tree Classifier - Mean CV Recall (Class 0): 0.9545, Mean CV Precision (Class 1): 0.6789, Mean CV F1-Score: 0.7812\n",
            "Random Forest Classifier - Mean CV Recall (Class 0): 0.9322, Mean CV Precision (Class 1): 0.8399, Mean CV F1-Score: 0.8868\n",
            "MLP Classifier - Mean CV Recall (Class 0): 0.9529, Mean CV Precision (Class 1): 0.8834, Mean CV F1-Score: 0.9135\n",
            "\n",
            "The best model based on Recall for Class 0 (Unacceptable) is Decision Tree Classifier with a mean CV recall of 0.9545.\n",
            "\n",
            "The best model based on Precision for Class 1 (Acceptable) is MLP Classifier with a mean CV precision of 0.8834.\n",
            "\n",
            "The best model based on F1-Score is MLP Classifier with a mean CV F1-score of 0.9135.\n"
          ]
        }
      ]
    },
    {
      "cell_type": "markdown",
      "source": [
        "**The best model for Recall [Decision Tree Classifier]:\\\n",
        " Class 0 (Unacceptable): This model is the best at catching all the \"unacceptable\" cars, so it rarely misses any that should be marked as unacceptable.**\\\n",
        "\n",
        "**Best Model for Precision [MLP Classifier]:\\\n",
        " Class 1 (Acceptable): This model is the best at only marking cars as \"acceptable\" if they really are, so it makes fewer mistakes in approving cars that shouldn’t be.**\n",
        "\n",
        "**Best Model for F1-Score[MLP Classifier]:\\\n",
        " This model balances well between catching \"unacceptable\" cars and approving \"acceptable\" ones accurately.**"
      ],
      "metadata": {
        "id": "4hWf8IGND0IA"
      }
    },
    {
      "cell_type": "markdown",
      "source": [
        "**Final evaluation on the test dataset**"
      ],
      "metadata": {
        "id": "XQpV8dY3pmQb"
      }
    },
    {
      "cell_type": "markdown",
      "source": [],
      "metadata": {
        "id": "26QTbe4pFwvc"
      }
    },
    {
      "cell_type": "markdown",
      "source": [
        "Steps:\n",
        " Train on the full training set \\\n",
        " Predict on the test set Xs_test \\\n",
        " Evaluate using MSE : y_test and y_test_pred"
      ],
      "metadata": {
        "id": "vsU7-5JKrPdw"
      }
    },
    {
      "cell_type": "code",
      "source": [
        "print(\"\\nFinal Tests:\\n\")\n",
        "\n",
        "# Loggistic Regression\n",
        "y_test_pred = best_log_reg.predict(Xs_test)\n",
        "test_accuracy = accuracy_score(y_test, y_test_pred)\n",
        "print(\"Tuned Logistic Regression Test Accuracy:\", test_accuracy)\n",
        "print(\"\\nTuned Logistic Regression Test Classification Report:\\n\", classification_report(y_test, y_test_pred))\n",
        "print(\"\\nTuned Logistic Regression Test Confusion Matrix:\\n\", confusion_matrix(y_test, y_test_pred))\n",
        "\n",
        "\n",
        "# SVM Classifier\n",
        "y_test_pred = best_svm_linear.predict(Xs_test)\n",
        "test_accuracy = accuracy_score(y_test, y_test_pred)\n",
        "print(\"Tuned Linear SVM Test Accuracy:\", test_accuracy)\n",
        "print(\"\\nTuned Linear SVM Test Classification Report:\\n\", classification_report(y_test, y_test_pred))\n",
        "print(\"\\nTuned Linear SVM Test Confusion Matrix:\\n\", confusion_matrix(y_test, y_test_pred))\n",
        "\n",
        "\n",
        "# Decision Tree Classification\n",
        "# If validation performance is good, evaluate on the test set\n",
        "y_test_pred = best_tree_clf.predict(Xs_test)\n",
        "test_accuracy = accuracy_score(y_test, y_test_pred)\n",
        "print(\"\\n\\nTuned Decision Tree Test Accuracy:\", test_accuracy)\n",
        "print(\"\\nTuned Decision Tree Test Classification Report:\\n\", classification_report(y_test, y_test_pred))\n",
        "print(\"\\nTuned Decision Tree Test Confusion Matrix:\\n\", confusion_matrix(y_test, y_test_pred))\n",
        "\n",
        "\n",
        "# MLP Classifier\n",
        "y_test_pred = best_mlp.predict(Xs_test)\n",
        "test_accuracy = accuracy_score(y_test, y_test_pred)\n",
        "print(\"\\n\\nTuned MLP Test Accuracy:\", test_accuracy)\n",
        "print(\"\\nTuned MLP Test Classification Report:\\n\", classification_report(y_test, y_test_pred))\n",
        "print(\"\\nTuned MLP Test Confusion Matrix:\\n\", confusion_matrix(y_test, y_test_pred))\n",
        "\n",
        "# ERandom forest Classifier\n",
        "y_test_pred = rf_clf.predict(Xs_test)\n",
        "test_accuracy = accuracy_score(y_test, y_test_pred)\n",
        "print(\"Random Forest Test Accuracy:\", test_accuracy)\n",
        "print(\"\\nRandom Forest Test Classification Report:\\n\", classification_report(y_test, y_test_pred))\n",
        "print(\"\\nRandom Forest Test Confusion Matrix:\\n\", confusion_matrix(y_test, y_test_pred))\n",
        "\n",
        "\n",
        "\n"
      ],
      "metadata": {
        "id": "d0zD3PoEQtno",
        "colab": {
          "base_uri": "https://localhost:8080/"
        },
        "outputId": "4d452e59-2d57-403d-be02-0aee51b7886a"
      },
      "execution_count": 35,
      "outputs": [
        {
          "output_type": "stream",
          "name": "stdout",
          "text": [
            "\n",
            "Final Tests:\n",
            "\n",
            "Tuned Logistic Regression Test Accuracy: 0.8648648648648649\n",
            "\n",
            "Tuned Logistic Regression Test Classification Report:\n",
            "               precision    recall  f1-score   support\n",
            "\n",
            "           0       0.89      0.92      0.90       178\n",
            "           1       0.81      0.74      0.77        81\n",
            "\n",
            "    accuracy                           0.86       259\n",
            "   macro avg       0.85      0.83      0.84       259\n",
            "weighted avg       0.86      0.86      0.86       259\n",
            "\n",
            "\n",
            "Tuned Logistic Regression Test Confusion Matrix:\n",
            " [[164  14]\n",
            " [ 21  60]]\n",
            "Tuned Linear SVM Test Accuracy: 0.8648648648648649\n",
            "\n",
            "Tuned Linear SVM Test Classification Report:\n",
            "               precision    recall  f1-score   support\n",
            "\n",
            "           0       0.89      0.92      0.90       178\n",
            "           1       0.81      0.74      0.77        81\n",
            "\n",
            "    accuracy                           0.86       259\n",
            "   macro avg       0.85      0.83      0.84       259\n",
            "weighted avg       0.86      0.86      0.86       259\n",
            "\n",
            "\n",
            "Tuned Linear SVM Test Confusion Matrix:\n",
            " [[164  14]\n",
            " [ 21  60]]\n",
            "\n",
            "\n",
            "Tuned Decision Tree Test Accuracy: 0.9884169884169884\n",
            "\n",
            "Tuned Decision Tree Test Classification Report:\n",
            "               precision    recall  f1-score   support\n",
            "\n",
            "           0       0.98      1.00      0.99       178\n",
            "           1       1.00      0.96      0.98        81\n",
            "\n",
            "    accuracy                           0.99       259\n",
            "   macro avg       0.99      0.98      0.99       259\n",
            "weighted avg       0.99      0.99      0.99       259\n",
            "\n",
            "\n",
            "Tuned Decision Tree Test Confusion Matrix:\n",
            " [[178   0]\n",
            " [  3  78]]\n",
            "\n",
            "\n",
            "Tuned MLP Test Accuracy: 0.9382239382239382\n",
            "\n",
            "Tuned MLP Test Classification Report:\n",
            "               precision    recall  f1-score   support\n",
            "\n",
            "           0       0.94      0.98      0.96       178\n",
            "           1       0.95      0.85      0.90        81\n",
            "\n",
            "    accuracy                           0.94       259\n",
            "   macro avg       0.94      0.91      0.93       259\n",
            "weighted avg       0.94      0.94      0.94       259\n",
            "\n",
            "\n",
            "Tuned MLP Test Confusion Matrix:\n",
            " [[174   4]\n",
            " [ 12  69]]\n",
            "Random Forest Test Accuracy: 0.9884169884169884\n",
            "\n",
            "Random Forest Test Classification Report:\n",
            "               precision    recall  f1-score   support\n",
            "\n",
            "           0       0.98      1.00      0.99       178\n",
            "           1       1.00      0.96      0.98        81\n",
            "\n",
            "    accuracy                           0.99       259\n",
            "   macro avg       0.99      0.98      0.99       259\n",
            "weighted avg       0.99      0.99      0.99       259\n",
            "\n",
            "\n",
            "Random Forest Test Confusion Matrix:\n",
            " [[178   0]\n",
            " [  3  78]]\n"
          ]
        }
      ]
    },
    {
      "cell_type": "markdown",
      "source": [
        "**Best Models:**\n",
        "Decision Tree and Random Forest perform best, with high accuracy (98.8%) and balanced recall and precision, even for the minority \"acceptable\" class.\n",
        "\n",
        "**Worst Models**\n",
        "Logistic Regression and SVM: Lower accuracy (86.5%) and weaker recall for \"acceptable\" cases, making them less ideal for imbalanced data."
      ],
      "metadata": {
        "id": "QIEYcIRfFLb7"
      }
    }
  ],
  "metadata": {
    "colab": {
      "provenance": [],
      "toc_visible": true,
      "include_colab_link": true
    },
    "kernelspec": {
      "display_name": "Python 3",
      "name": "python3"
    },
    "language_info": {
      "name": "python"
    }
  },
  "nbformat": 4,
  "nbformat_minor": 0
}